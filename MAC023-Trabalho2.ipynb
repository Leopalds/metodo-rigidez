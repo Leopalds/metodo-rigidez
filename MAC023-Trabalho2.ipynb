{
  "nbformat": 4,
  "nbformat_minor": 0,
  "metadata": {
    "colab": {
      "provenance": [],
      "collapsed_sections": [
        "XeFhnYDkSqBw",
        "AuN8QgzOfM-4",
        "EIvAI4Tz53lE",
        "hyCIVclYBwSK",
        "6nBJA4u_UzXU",
        "PQEtG35tUs9W",
        "Bp9fizNrU3RX",
        "F1JQWLbC9EhY",
        "me4M_ieSOFtm",
        "yEsHnkTVGJij",
        "xPEY9nPS3ogZ"
      ],
      "include_colab_link": true
    },
    "kernelspec": {
      "name": "python3",
      "display_name": "Python 3"
    },
    "language_info": {
      "name": "python"
    }
  },
  "cells": [
    {
      "cell_type": "markdown",
      "metadata": {
        "id": "view-in-github",
        "colab_type": "text"
      },
      "source": [
        "<a href=\"https://colab.research.google.com/github/Leopalds/metodo-rigidez/blob/main/MAC023-Trabalho2.ipynb\" target=\"_parent\"><img src=\"https://colab.research.google.com/assets/colab-badge.svg\" alt=\"Open In Colab\"/></a>"
      ]
    },
    {
      "cell_type": "markdown",
      "source": [
        "# Resolução de Vigas, treliças e pórticos planos\n",
        "\n",
        "**Alunos**: Gustavo Carvalhaes (20206552B) e Pedro Leopoldo (202065518B)\n",
        "\n",
        "Para resolução desse trabalho, utilizamos como base a apostila [Analise Estrutural III](https://drive.google.com/file/d/1DcRN9M0jFImnP3MBz5TnRiBGJnoxhLOo/view) e a instrução para o [trabalho final](https://drive.google.com/file/d/1BVnfMy4CI2yR2WV4rEEsfKoP4dLQ1guo/view?usp=sharing)"
      ],
      "metadata": {
        "id": "ShFvGbuhATDH"
      }
    },
    {
      "cell_type": "code",
      "execution_count": 496,
      "metadata": {
        "id": "Ec29hJSp5ojb"
      },
      "outputs": [],
      "source": [
        "## Importações que serão utilizadas\n",
        "import numpy as np\n",
        "import math\n",
        "import json\n",
        "import matplotlib.pyplot as plt"
      ]
    },
    {
      "cell_type": "markdown",
      "source": [
        "# Resolução do Problema"
      ],
      "metadata": {
        "id": "8iQOWJrDB6pq"
      }
    },
    {
      "cell_type": "markdown",
      "source": [
        "## Definição das Classes de Barras"
      ],
      "metadata": {
        "id": "XeFhnYDkSqBw"
      }
    },
    {
      "cell_type": "markdown",
      "source": [
        "A primeira etapa do desenvolvimento foi a criação das classes definidas para os três tipos de estruturas a serem implementadas no trabalho. Todas as classes de barras recebem informações pertinentes da geometria da estrutura e do tipo de material e possuem funções para calcular as matrizes de rigidez local e de rotação.\n",
        "\n",
        "Além de contar com funções para calcular o comprimento e angulo com o eixo global."
      ],
      "metadata": {
        "id": "ULmqaU--gL1L"
      }
    },
    {
      "cell_type": "code",
      "source": [
        "class BarraPorticoPlano:\n",
        "    def __init__(self, id, coordNoInic, coordNoFim, A, I, E):\n",
        "      self.id = id # identificador da barra\n",
        "      self.coordNoInic = np.array(coordNoInic)\n",
        "      self.coordNoFim = np.array(coordNoFim)\n",
        "      self.A = A # area da seção transversal (m²)\n",
        "      self.I = I # momento de inércia da seção (m⁴)\n",
        "      self.E = E # módulo de elasticidade do material (Pa)\n",
        "      self.L = self.calcularComprimento()\n",
        "      self.angulo = self.calcularAngulo()\n",
        "\n",
        "    def calcularComprimento(self):\n",
        "      return np.linalg.norm(self.coordNoFim - self.coordNoInic) # distância euclidiana\n",
        "\n",
        "    def calcularAngulo(self):\n",
        "      distX = self.coordNoFim[0] - self.coordNoInic[0]\n",
        "      distY = self.coordNoFim[1] - self.coordNoInic[1]\n",
        "      return np.arctan2(distY, distX) # ângulo em rad\n",
        "\n",
        "    def matrizRigidezLocal(self):\n",
        "      # matriz de rigidez local (tabelada)\n",
        "      L = self.L\n",
        "      E = self.E\n",
        "      A = self.A\n",
        "      I = self.I\n",
        "      k = [\n",
        "          [ E*A/L,  0,          0,         -E*A/L,  0,         0       ],\n",
        "          [ 0,      12*E*I/L**3, 6*E*I/L**2, 0,     -12*E*I/L**3, 6*E*I/L**2 ],\n",
        "          [ 0,      6*E*I/L**2,  4*E*I/L,   0,     -6*E*I/L**2,  2*E*I/L   ],\n",
        "          [-E*A/L,  0,          0,          E*A/L,  0,         0       ],\n",
        "          [ 0,     -12*E*I/L**3, -6*E*I/L**2, 0,      12*E*I/L**3, -6*E*I/L**2],\n",
        "          [ 0,      6*E*I/L**2,  2*E*I/L,   0,     -6*E*I/L**2,  4*E*I/L   ]\n",
        "      ]\n",
        "      return k\n",
        "    def matrizRotacao(self):\n",
        "      # matriz de rotação local\n",
        "      cx = np.cos(self.angulo)\n",
        "      cy = np.sin(self.angulo)\n",
        "\n",
        "      R = np.array([\n",
        "          [ cx,  cy,  0,  0,  0,  0],\n",
        "          [-cy,  cx,  0,  0,  0,  0],\n",
        "          [ 0,  0,  1,  0,  0,  0],\n",
        "          [ 0,  0,  0,  cx,  cy,  0],\n",
        "          [ 0,  0,  0, -cy,  cx,  0],\n",
        "          [ 0,  0,  0,  0,  0,  1]\n",
        "      ])\n",
        "\n",
        "      return R\n",
        "\n",
        "    def imprimirBarra(self):\n",
        "      print(f\"ID: {self.id}, NoI: {self.coordNoInic}, NoF: {self.coordNoFim}, L: {self.L:.2f}, Ângulo: {self.angulo:.2f}, A: {self.A:.2f}, I: {self.I:.2e}, E: {self.E:.2e}\")"
      ],
      "metadata": {
        "id": "OgGI_133LSVL"
      },
      "execution_count": 539,
      "outputs": []
    },
    {
      "cell_type": "code",
      "source": [
        "class BarraTrelicaPlana:\n",
        "    def __init__(self, id, coordNoInic, coordNoFim, A, E):\n",
        "      self.id = id\n",
        "      self.coordNoInic = np.array(coordNoInic)\n",
        "      self.coordNoFim = np.array(coordNoFim)\n",
        "      self.A = A\n",
        "      self.E = E\n",
        "      self.L = self.calcularComprimento()\n",
        "      self.angulo = self.calcularAngulo()\n",
        "\n",
        "    def calcularComprimento(self):\n",
        "      return np.linalg.norm(self.coordNoFim - self.coordNoInic) # distância euclidiana\n",
        "\n",
        "    def calcularAngulo(self):\n",
        "      distX = self.coordNoFim[0] - self.coordNoInic[0]\n",
        "      distY = self.coordNoFim[1] - self.coordNoInic[1]\n",
        "      return np.arctan2(distY, distX) # ângulo em rad\n",
        "\n",
        "    def matrizRotacao(self):\n",
        "      cx = np.cos(self.angulo)\n",
        "      cy = np.sin(self.angulo)\n",
        "\n",
        "      R = np.array([\n",
        "          [ cx,  cy,  0,  0],\n",
        "          [-cy,  cx,  0,  0],\n",
        "          [ 0,  0,  cx,  cy],\n",
        "          [ 0,  0, -cy,  cx]\n",
        "      ])\n",
        "      return R\n",
        "\n",
        "    def matrizRigidezLocal(self):\n",
        "      EA_L = (self.E * self.A) / self.L\n",
        "\n",
        "      kLocal = np.array([\n",
        "          [ 1,  0, -1,  0],\n",
        "          [ 0,  0,  0,  0],\n",
        "          [-1,  0,  1,  0],\n",
        "          [ 0,  0,  0,  0]\n",
        "      ]) * EA_L\n",
        "\n",
        "      return kLocal\n",
        "\n",
        "    def imprimirBarra(self):\n",
        "        print(f\"ID: {self.id}, NoI: {self.coordNoInic}, NoF: {self.coordNoFim}, L: {self.L:.2f}, Ângulo: {self.angulo:.2f}, A: {self.A:.2f}, E: {self.E:.2e}\")\n"
      ],
      "metadata": {
        "id": "3ahVpzQrROj8"
      },
      "execution_count": 498,
      "outputs": []
    },
    {
      "cell_type": "code",
      "source": [
        "class BarraVigaPlana:\n",
        "    def __init__(self, id, coordNoInic, coordNoFim, A, I, E):\n",
        "      self.id = id\n",
        "      self.coordNoInic = np.array(coordNoInic)\n",
        "      self.coordNoFim = np.array(coordNoFim)\n",
        "      self.A = A\n",
        "      self.I = I\n",
        "      self.E = E\n",
        "      self.L = self.calcularComprimento()\n",
        "      self.angulo = self.calcularAngulo()\n",
        "\n",
        "    def calcularComprimento(self):\n",
        "      return np.linalg.norm(self.coordNoFim - self.coordNoInic)\n",
        "\n",
        "    def calcularAngulo(self):\n",
        "      distX = self.coordNoFim[0] - self.coordNoInic[0]\n",
        "      distY = self.coordNoFim[1] - self.coordNoInic[1]\n",
        "      return np.arctan2(distY, distX)\n",
        "\n",
        "    def matrizRotacao(self):\n",
        "      cx = np.cos(self.angulo)\n",
        "      cy = np.sin(self.angulo)\n",
        "\n",
        "      R = np.array([\n",
        "          [ cx,  cy,  0,  0],\n",
        "          [-cy,  cx,  0,  0],\n",
        "          [ 0,  0,   cx,  cy],\n",
        "          [ 0,  0,  -cy,  cx],\n",
        "      ])\n",
        "      return R\n",
        "\n",
        "    def matrizRigidezLocal(self):\n",
        "      L = self.L\n",
        "      E = self.E\n",
        "      I = self.I\n",
        "\n",
        "      kLocal = np.array([\n",
        "          [ 12*E*I/L**3,  6*E*I/L**2, -12*E*I/L**3,  6*E*I/L**2],\n",
        "          [ 6*E*I/L**2,   4*E*I/L,    -6*E*I/L**2,   2*E*I/L  ],\n",
        "          [-12*E*I/L**3, -6*E*I/L**2,  12*E*I/L**3, -6*E*I/L**2],\n",
        "          [ 6*E*I/L**2,   2*E*I/L,    -6*E*I/L**2,   4*E*I/L  ]\n",
        "      ])\n",
        "\n",
        "      return kLocal\n",
        "\n",
        "    def imprimirBarra(self):\n",
        "        print(f\"ID: {self.id}, NoI: {self.coordNoInic}, NoF: {self.coordNoFim}, L: {self.L:.2f}, Ângulo: {self.angulo:.2f}, A: {self.A:.2f}, I: {self.I:.2e}, E: {self.E:.2e}\")"
      ],
      "metadata": {
        "id": "2UHtFe7CfAkh"
      },
      "execution_count": 499,
      "outputs": []
    },
    {
      "cell_type": "markdown",
      "source": [
        "## Entrada de dados"
      ],
      "metadata": {
        "id": "AuN8QgzOfM-4"
      }
    },
    {
      "cell_type": "markdown",
      "source": [
        "A entrada de dados foi implementada da forma como foi sugerido pelo texto da atividade final da disciplina, utilizamos o formato sugerido e as nomenclaturas. O código recebe um arquivo de texto o qual deve conter todas as informações necessárias. Após a extração de dados, o algoritmo faz uma série da validações das informações antes de prosseguir."
      ],
      "metadata": {
        "id": "gY3ZJ6TvhNu0"
      }
    },
    {
      "cell_type": "code",
      "source": [
        "def read_data_json(filename):\n",
        "    # Abre e carrega o arquivo JSON\n",
        "    with open(filename, 'r', encoding='utf-8') as f:\n",
        "        data = json.load(f)\n",
        "\n",
        "    # Extração dos parâmetros principais, garantindo que existam no JSON\n",
        "    try:\n",
        "        nno        = int(data[\"nno\"])\n",
        "        nel        = int(data[\"nel\"])\n",
        "        nnoel      = int(data[\"nnoel\"])\n",
        "        ndofn      = int(data[\"ndofn\"])\n",
        "        ntm        = int(data[\"ntm\"])\n",
        "        nts        = int(data[\"nts\"])\n",
        "        typestruct = int(data[\"typestruct\"])\n",
        "    except KeyError as e:\n",
        "        raise Exception(f\"Atenção: a chave {e} não foi encontrada no JSON\")\n",
        "\n",
        "    # Validação da lista de coordenadas (no JSON a chave é 'coord')\n",
        "    coord_list = data.get(\"coord\")\n",
        "    if coord_list is None:\n",
        "        raise Exception(\"Atenção: chave 'coord' não encontrada no JSON\")\n",
        "    if len(coord_list) != nno:\n",
        "        raise Exception(\"Atenção: número de nós em 'coord' diferente de nno.\")\n",
        "\n",
        "    # Validação da conectividade dos elementos\n",
        "    ndn_list = data.get(\"ndn\")\n",
        "    if ndn_list is None:\n",
        "        raise Exception(\"Atenção: chave 'ndn' não encontrada no JSON\")\n",
        "    if len(ndn_list) != nel:\n",
        "        raise Exception(\"Atenção: número de elementos em 'ndn' diferente de nel.\")\n",
        "\n",
        "    # Validação dos tipos de material\n",
        "    intm_list = data.get(\"intm\")\n",
        "    if intm_list is None:\n",
        "        raise Exception(\"Atenção: chave 'intm' não encontrada no JSON\")\n",
        "    if len(intm_list) != nel:\n",
        "        raise Exception(\"Atenção: lista 'intm' com tamanho diferente de nel.\")\n",
        "\n",
        "    # Validação dos tipos de seção\n",
        "    ints_list = data.get(\"ints\")\n",
        "    if ints_list is None:\n",
        "        raise Exception(\"Atenção: chave 'ints' não encontrada no JSON\")\n",
        "    if len(ints_list) != nel:\n",
        "        raise Exception(\"Atenção: lista 'ints' com tamanho diferente de nel.\")\n",
        "\n",
        "    # Validação das propriedades do material\n",
        "    E_list = data.get(\"E\")\n",
        "    if E_list is None:\n",
        "        raise Exception(\"Atenção: chave 'E' não encontrada no JSON\")\n",
        "    if len(E_list) != ntm:\n",
        "        raise Exception(\"Atenção: número de valores de E diferente de ntm.\")\n",
        "\n",
        "    nu_list = data.get(\"nu\")\n",
        "    if nu_list is None:\n",
        "        raise Exception(\"Atenção: chave 'nu' não encontrada no JSON\")\n",
        "    if len(nu_list) != ntm:\n",
        "        raise Exception(\"Atenção: número de valores de nu diferente de ntm.\")\n",
        "\n",
        "    rho_list = data.get(\"rho\")\n",
        "    if rho_list is None:\n",
        "        raise Exception(\"Atenção: chave 'rho' não encontrada no JSON\")\n",
        "    if len(rho_list) != ntm:\n",
        "        raise Exception(\"Atenção: número de valores de rho diferente de ntm.\")\n",
        "\n",
        "    # Validação das propriedades da seção\n",
        "    A_list = data.get(\"A\")\n",
        "    if A_list is None:\n",
        "        raise Exception(\"Atenção: chave 'A' não encontrada no JSON\")\n",
        "    if len(A_list) != nts:\n",
        "        raise Exception(\"Atenção: número de valores de A diferente de nts.\")\n",
        "\n",
        "    # A inércia pode estar como 'Iz' ou 'I'\n",
        "    if \"Iz\" in data:\n",
        "        Iz_list = data.get(\"Iz\")\n",
        "    elif \"I\" in data:\n",
        "        Iz_list = data.get(\"I\")\n",
        "    else:\n",
        "        raise Exception(\"Atenção: chave 'Iz' ou 'I' não encontrada no JSON\")\n",
        "    if len(Iz_list) != nts:\n",
        "        raise Exception(\"Atenção: número de valores de Iz/I diferente de nts.\")\n",
        "\n",
        "    sf_list = data.get(\"sf\")\n",
        "    if sf_list is None:\n",
        "        raise Exception(\"Atenção: chave 'sf' não encontrada no JSON\")\n",
        "    if len(sf_list) != nts:\n",
        "        raise Exception(\"Atenção: número de valores de sf diferente de nts.\")\n",
        "\n",
        "    # Cálculo do módulo de elasticidade transversal G para cada material\n",
        "    G_list = []\n",
        "    for E_val, nu_val in zip(E_list, nu_list):\n",
        "        G_list.append(E_val / (2 * (1 + nu_val)))\n",
        "\n",
        "    # Organiza os dados em um dicionário, padronizando a chave de coordenadas para 'coor'\n",
        "    new_data = {\n",
        "        'nno': nno,\n",
        "        'nel': nel,\n",
        "        'nnoel': nnoel,\n",
        "        'ndofn': ndofn,\n",
        "        'ntm': ntm,\n",
        "        'nts': nts,\n",
        "        'typestruct': typestruct,\n",
        "        'coor': coord_list,  # renomeia 'coord' para 'coor'\n",
        "        'ndn': ndn_list,\n",
        "        'intm': intm_list,\n",
        "        'ints': ints_list,\n",
        "        'E': E_list,\n",
        "        'nu': nu_list,\n",
        "        'rho': rho_list,\n",
        "        'A': A_list,\n",
        "        'Iz': Iz_list,\n",
        "        'sf': sf_list,\n",
        "        'G': G_list\n",
        "    }\n",
        "\n",
        "    return new_data"
      ],
      "metadata": {
        "id": "saiCueYrG_dt"
      },
      "execution_count": 500,
      "outputs": []
    },
    {
      "cell_type": "markdown",
      "source": [
        "## Instanciando as barras"
      ],
      "metadata": {
        "id": "EIvAI4Tz53lE"
      }
    },
    {
      "cell_type": "markdown",
      "source": [
        "Após a primeira entrada de dados, o algoritmo segue para a instância das barras. Com uma lista de barras inicialmente vazio, realizamos o loop para o número de elementos indicado pelo usuário. Dentro da lógica do loop, obtemos os dados fornecidos para a barra e ao final instanciamos a classe específica da barra, a depender do tipo de estrutura definido, e adicionamos o objeto de barra na lista de barras."
      ],
      "metadata": {
        "id": "dyIgzlAbiSMz"
      }
    },
    {
      "cell_type": "code",
      "source": [
        "def instanciar_barras(nel, ints, intm, Iz, E, A, ndn, coor, typestruct):\n",
        "  barras = []\n",
        "  for i in range(nel):\n",
        "    #Pegando a area da barra\n",
        "    indiceArea = ints[i]\n",
        "    area = A[indiceArea - 1]\n",
        "\n",
        "    # Pegando o Iz\n",
        "    indiceI = intm[i]\n",
        "    Iz_value = Iz[indiceI - 1]\n",
        "\n",
        "    # Pegando o E\n",
        "    indiceE = intm[i]\n",
        "    E_value = E[indiceE - 1]\n",
        "\n",
        "    # Pegando as coordenadas dos nos\n",
        "    indiceNoIncial, indiceNoFinal = ndn[i]\n",
        "    noInicial = coor[indiceNoIncial - 1]\n",
        "    noFinal = coor[indiceNoFinal - 1]\n",
        "\n",
        "    if(typestruct == 1):\n",
        "      # Viga\n",
        "      barras.append(BarraVigaPlana(i, noInicial, noFinal, area, Iz_value, E_value))\n",
        "      barras[i].imprimirBarra()\n",
        "    elif(typestruct == 2):\n",
        "      # Treliça\n",
        "      barras.append(BarraTrelicaPlana(i, noInicial, noFinal, area, E_value))\n",
        "      barras[i].imprimirBarra()\n",
        "    elif(typestruct == 3):\n",
        "      # Portico\n",
        "      barras.append(BarraPorticoPlano(i, noInicial, noFinal, area, Iz_value, E_value))\n",
        "      barras[i].imprimirBarra()\n",
        "    else:\n",
        "      raise Exception(\"Tipo desconhecido\")\n",
        "\n",
        "\n",
        "  return barras"
      ],
      "metadata": {
        "id": "EXICcXB25jSz"
      },
      "execution_count": 537,
      "outputs": []
    },
    {
      "cell_type": "markdown",
      "source": [
        "## Calculo da matriz global"
      ],
      "metadata": {
        "id": "hyCIVclYBwSK"
      }
    },
    {
      "cell_type": "markdown",
      "source": [
        "### Rotina para montar o vetor LM"
      ],
      "metadata": {
        "id": "6nBJA4u_UzXU"
      }
    },
    {
      "cell_type": "markdown",
      "source": [
        "Utilizamos essa função para montar o vetor LM, primeiramente calculamos o número total de graus de liberdade, depois é calculado qual o primeiro grau de liberdade do elemento. Por fim instanciamos o vetor LM com início a partir de onde foi calculado e fim no último grau de liberdade\n"
      ],
      "metadata": {
        "id": "hS7ubqhT0t_v"
      }
    },
    {
      "cell_type": "code",
      "source": [
        "def calculo_vetor_LM(idNoInicio, idNoFim, nnoel, ndofn):\n",
        "  # Calculando o número de dofs por elemento\n",
        "    ids_nos_da_barra = [idNoInicio, idNoFim]\n",
        "    vetor_LM = np.zeros(nnoel * ndofn, dtype=np.int8)\n",
        "\n",
        "    # preenchendo o vetor LM\n",
        "    for i in range(nnoel):\n",
        "      for j in range(ndofn):\n",
        "        vetor_LM[j + ndofn*i] = (ids_nos_da_barra[i] - 1) * ndofn + j + 1\n",
        "\n",
        "    return vetor_LM"
      ],
      "metadata": {
        "id": "Xz9jhODg84TD"
      },
      "execution_count": 502,
      "outputs": []
    },
    {
      "cell_type": "markdown",
      "source": [
        "### Rotina para colocar a matriz de rigidez local na global"
      ],
      "metadata": {
        "id": "WAOFbJdpUvX8"
      }
    },
    {
      "cell_type": "markdown",
      "source": [
        "Nessa função de montagem, percorremos os graus de liberdade duas vezes, uma iterando pelas linhas e a outra pelas colunas. Para cada grau de liberdade identificamos a posição linha/coluna na matriz global. Uma vez localizado, fazemos a soma do valor da matriz local na posição da matriz global\n"
      ],
      "metadata": {
        "id": "L7YBDaaM2Paz"
      }
    },
    {
      "cell_type": "code",
      "source": [
        "def assembly(kk, k, vetor_LM):\n",
        "    # Número de graus de liberdade por elemento\n",
        "    edof = len(vetor_LM)\n",
        "\n",
        "    # Montagem da matriz do sistema\n",
        "    for i in range(edof):\n",
        "        ii = vetor_LM[i] - 1\n",
        "        for j in range(edof):\n",
        "            jj = vetor_LM[j] - 1\n",
        "            kk[ii, jj] += k[i, j]  # Adiciona o valor de k na matriz do sistema\n",
        "\n",
        "    return kk"
      ],
      "metadata": {
        "id": "1nSQKOBT-eDY"
      },
      "execution_count": 503,
      "outputs": []
    },
    {
      "cell_type": "markdown",
      "source": [
        "### Montagem da matriz global"
      ],
      "metadata": {
        "id": "PQEtG35tUs9W"
      }
    },
    {
      "cell_type": "markdown",
      "source": [
        "Inicializamos uma matriz de tamanho número de nós X número de graus de liberdade por nó com zeros. Em seguida, para cada barra recuperamos a matriz de rotação, matriz de rigidez local, que é rotacionada para o referencial global atravéz da multiplicação pela matriz de rotação e pela matriz de rotação transposta. Por fim utilizamos a função de calculo de vetor LM já apresentada e a chamada da montagem da matriz global.\n"
      ],
      "metadata": {
        "id": "24aeEAr36CnQ"
      }
    },
    {
      "cell_type": "code",
      "source": [
        "def monta_matriz_global(barras, nno, ndofn, nnoel, ndn):\n",
        "  matriz_global = np.zeros((nno * ndofn, nno * ndofn))\n",
        "\n",
        "  for (i, barra) in enumerate(barras):\n",
        "    matrizRotacao = np.array(barra.matrizRotacao())\n",
        "    matrizRigidezRotacionada = matrizRotacao.T @ barra.matrizRigidezLocal() @ matrizRotacao\n",
        "    noInicial, noFinal = ndn[barra.id]\n",
        "    vetor_lm = calculo_vetor_LM(noInicial, noFinal, nnoel, ndofn)\n",
        "    matriz_global = assembly(matriz_global, matrizRigidezRotacionada, vetor_lm)\n",
        "\n",
        "  return matriz_global"
      ],
      "metadata": {
        "id": "HCux86EuB5yB"
      },
      "execution_count": 504,
      "outputs": []
    },
    {
      "cell_type": "markdown",
      "source": [
        "## Finalizar a entrada de dados"
      ],
      "metadata": {
        "id": "Bp9fizNrU3RX"
      }
    },
    {
      "cell_type": "markdown",
      "source": [
        "Nesta etapa, vamos ler o restante da entrada de dados do problema, o arquivo de entrada precisa ser no formato JSON. Obtemos as informações sobre os carregamentos e apoios. Além disso, também são feitas validações para verificar se o arquivo utilizado é um arquivo válido.\n"
      ],
      "metadata": {
        "id": "8anHKzVo7sQ0"
      }
    },
    {
      "cell_type": "code",
      "source": [
        "def ler_cargas_struct(filename, num_nodes, num_elements, ndofn):\n",
        "    \"\"\"\n",
        "    Lê e valida os dados de carregamento de um arquivo JSON.\n",
        "\n",
        "    :param filename: Nome do arquivo JSON com as informações de cargas.\n",
        "    :param num_nodes: Número total de nós no modelo (para checar limites).\n",
        "    :param num_elements: Número total de elementos no modelo (para checar limites).\n",
        "    :param ndofn: Graus de liberdade por nó (para checar o formato de ccno).\n",
        "    :return: Dicionário com os dados de carregamento (se válido).\n",
        "    :raises ValueError: Caso alguma inconsistência seja encontrada.\n",
        "    \"\"\"\n",
        "\n",
        "    # 1. Leitura do arquivo JSON\n",
        "    with open(filename, 'r', encoding='utf-8') as f:\n",
        "        data = json.load(f)\n",
        "\n",
        "    # 2. Extração dos dados principais\n",
        "    nnc   = data[\"nnc\"]       # Número de nós com cargas concentradas\n",
        "    nele  = data[\"nele\"]      # Número de elementos carregados\n",
        "    nnoc  = data[\"nnoc\"]      # Lista com os índices dos nós carregados\n",
        "    ccno  = data[\"ccno\"]      # Lista com as cargas concentradas [nnc x ndofn]\n",
        "    ndmbc = data[\"ndmbc\"]     # Lista com os índices dos elementos carregados\n",
        "    ityl0 = data[\"itylo\"]     # Lista com os dados dos tipos de carga\n",
        "    nccdesl = data[\"nccdesl\"] # Número de nós com apoio\n",
        "    nnr = data['nnr']         # Lista com os indíces dos nós com apoio\n",
        "    itydisp = data['itydisp'] # Lista com qual grau de liberdade está restrito\n",
        "\n",
        "    # 3. Validações básicas de tamanho\n",
        "    # 3.1. nnc vs nnoc\n",
        "    if len(nnoc) != nnc:\n",
        "        raise ValueError(\n",
        "            f\"Inconsistência: nnc={nnc}, mas len(nnoc)={len(nnoc)}.\"\n",
        "        )\n",
        "\n",
        "    # 3.2. nnc vs ccno\n",
        "    if len(ccno) != nnc:\n",
        "        raise ValueError(\n",
        "            f\"Inconsistência: nnc={nnc}, mas len(ccno)={len(ccno)}.\"\n",
        "        )\n",
        "    # Checando se cada linha de ccno tem ndofn colunas\n",
        "    for i, linha_ccno in enumerate(ccno, start=1):\n",
        "        if len(linha_ccno) != ndofn:\n",
        "            raise ValueError(\n",
        "                f\"Em ccno, a linha {i} deveria ter {ndofn} valores, mas tem {len(linha_ccno)}.\"\n",
        "            )\n",
        "\n",
        "    # 3.3. nele vs ndmbc\n",
        "    if len(ndmbc) != nele:\n",
        "        raise ValueError(\n",
        "            f\"Inconsistência: nele={nele}, mas len(ndmbc)={len(ndmbc)}.\"\n",
        "        )\n",
        "\n",
        "    # 3.4. nele vs ityl0\n",
        "    if len(ityl0) != nele:\n",
        "        raise ValueError(\n",
        "            f\"Inconsistência: nele={nele}, mas len(itylo)={len(ityl0)}.\"\n",
        "        )\n",
        "\n",
        "    if len(nnr) != nccdesl:\n",
        "      raise ValueError(\n",
        "            f\"Inconsistência: nccdesl={nccdesl}, mas len(nnr)={len(nnr)}.\"\n",
        "        )\n",
        "\n",
        "    if len(itydisp) != nccdesl:\n",
        "      raise ValueError(\n",
        "            f\"Inconsistência: nccdesl={nccdesl}, mas len(itydisp)={len(itydisp)}.\"\n",
        "        )\n",
        "\n",
        "    # 4. Validando intervalos de nós e elementos\n",
        "    # 4.1. Índices de nós carregados\n",
        "    for node_index in nnoc:\n",
        "        if not (1 <= node_index <= num_nodes):\n",
        "            raise ValueError(\n",
        "                f\"Nó carregado {node_index} fora do intervalo [1, {num_nodes}].\"\n",
        "            )\n",
        "\n",
        "    # 4.2. Índices de elementos carregados\n",
        "    for elem_index in ndmbc:\n",
        "        if not (1 <= elem_index <= num_elements):\n",
        "            raise ValueError(\n",
        "                f\"Elemento carregado {elem_index} fora do intervalo [1, {num_elements}].\"\n",
        "            )\n",
        "\n",
        "    # 4.3. Índices de nós apoiados\n",
        "    for node_index in nnr:\n",
        "        if not (1 <= node_index <= num_nodes):\n",
        "            raise ValueError(\n",
        "                f\"Nó apoiado {node_index} fora do intervalo [1, {num_nodes}].\"\n",
        "            )\n",
        "\n",
        "    # 4.4. Tamanaho de graus de liberdade dós nos apoiados\n",
        "    for (i, no_index) in enumerate(itydisp):\n",
        "      if len(no_index) != ndofn:\n",
        "        raise ValueError(\n",
        "              f\"Inconsistência: ndofn={ndofn}, mas len(itydisp[{i}])={len(no_index)}.\"\n",
        "          )\n",
        "\n",
        "    # 5. Validação dos tipos de carga\n",
        "    # Definição dos campos obrigatórios para cada tipo\n",
        "    # (Ajuste conforme suas necessidades reais de validação)\n",
        "    tipos_carga = {\n",
        "        1: [\"type\", \"mag\", \"pos\"],                # Força vertical no vão\n",
        "        2: [\"type\", \"mag\", \"pos\"],                # Momento no vão\n",
        "        3: [\"type\", \"mag\", \"pos\"],                # Força horizontal no vão\n",
        "        4: [\"type\", \"mag\", \"pos\"],                # Torsor no vão\n",
        "        5: [\"type\", \"mag\", \"distanciaNo\"],        # Forças de mesma magnitude\n",
        "        6: [\"type\", \"mag\"],                       # Carga distribuída (todo vão)\n",
        "        7: [\"type\", \"mag\", \"posInicial\", \"posFinal\"],  # Carga distribuída parcial\n",
        "        8: [\"type\", \"altura\", \"ladoAltura\"]       # Carga triangular\n",
        "    }\n",
        "\n",
        "    # 5.1. Checando cada item de ityl0\n",
        "    for i, item in enumerate(ityl0, start=1):\n",
        "        load_type = item.get(\"type\")\n",
        "        if load_type is None:\n",
        "            raise ValueError(f\"Não foi especificado 'type' para a carga {i}.\")\n",
        "\n",
        "        if load_type not in tipos_carga:\n",
        "            raise ValueError(\n",
        "                f\"Tipo de carga inválido: {load_type}. Deve ser um inteiro de 1 a 8.\"\n",
        "            )\n",
        "\n",
        "        # Checa se os campos obrigatórios existem\n",
        "        campos_necessarios = tipos_carga[load_type]\n",
        "        for campo in campos_necessarios:\n",
        "            if campo not in item:\n",
        "                raise ValueError(\n",
        "                    f\"Para 'type'={load_type}, o campo '{campo}' é obrigatório. \"\n",
        "                    f\"Carga {i} está incompleta.\"\n",
        "                )\n",
        "\n",
        "        # Exemplo extra de validação de formato, se desejado:\n",
        "        # (Por exemplo, se \"pos\" deve ser uma lista de 2 valores)\n",
        "        if \"pos\" in campos_necessarios:\n",
        "            pos = item[\"pos\"]\n",
        "            if not (isinstance(pos, list) and len(pos) == 2):\n",
        "                raise ValueError(\n",
        "                    f\"Para 'type'={load_type}, 'pos' deve ser uma lista [x, y].\"\n",
        "                )\n",
        "        if \"posInicial\" in campos_necessarios:\n",
        "            if not (isinstance(item[\"posInicial\"], list) and len(item[\"posInicial\"]) == 2):\n",
        "                raise ValueError(\n",
        "                    f\"Para 'type'={load_type}, 'posInicial' deve ser uma lista [x, y].\"\n",
        "                )\n",
        "        if \"posFinal\" in campos_necessarios:\n",
        "            if not (isinstance(item[\"posFinal\"], list) and len(item[\"posFinal\"]) == 2):\n",
        "                raise ValueError(\n",
        "                    f\"Para 'type'={load_type}, 'posFinal' deve ser uma lista [x, y].\"\n",
        "                )\n",
        "\n",
        "    return data"
      ],
      "metadata": {
        "id": "vxJbLanV6n7L"
      },
      "execution_count": 505,
      "outputs": []
    },
    {
      "cell_type": "markdown",
      "source": [
        "### Distância euclidiana\n",
        "\n",
        "Essa função retorna a distância eucliadiana entre dois pontos"
      ],
      "metadata": {
        "id": "YJHnpBn186t3"
      }
    },
    {
      "cell_type": "code",
      "source": [
        "def distancia_entre_pontos(ponto1, ponto2):\n",
        "    return math.sqrt((ponto2[0] - ponto1[0]) ** 2 + (ponto2[1] - ponto1[1]) ** 2)"
      ],
      "metadata": {
        "id": "rxTgHAk-XDIh"
      },
      "execution_count": 506,
      "outputs": []
    },
    {
      "cell_type": "markdown",
      "source": [
        "## Função para plotar a estrutura"
      ],
      "metadata": {
        "id": "uSZf9UgwGDiX"
      }
    },
    {
      "cell_type": "code",
      "source": [
        "def plot_barras(barras, ndn, coor, ndofn, typestruct):\n",
        "    fig, ax = plt.subplots(figsize=(8,8))\n",
        "\n",
        "    # Plota cada barra como uma linha\n",
        "    for barra in barras:\n",
        "        x_values = [barra.coordNoInic[0], barra.coordNoFim[0]]\n",
        "        y_values = [barra.coordNoInic[1], barra.coordNoFim[1]]\n",
        "        ax.plot(x_values, y_values, marker='o', linewidth=2, label=f'Barra {barra.id}')\n",
        "        # Anota o ID da barra no ponto médio\n",
        "        mid_x = (barra.coordNoInic[0] + barra.coordNoFim[0]) / 2\n",
        "        mid_y = (barra.coordNoInic[1] + barra.coordNoFim[1]) / 2\n",
        "        ax.text(mid_x, mid_y, f'{barra.id}', color='red', fontsize=12)\n",
        "\n",
        "    # Imprime os graus de liberdade associados ao no\n",
        "    for i in range(len(coor)):\n",
        "      grauLiberdadeText = \"\"\n",
        "      for j in range(ndofn):\n",
        "        grauLiberdadeText += f\"d{i * ndofn + j + 1}\"\n",
        "        if(j != ndofn - 1):\n",
        "          grauLiberdadeText += \", \"\n",
        "\n",
        "      ax.text(coor[i][0], coor[i][1], f'{grauLiberdadeText}', color='black', fontsize=8)\n",
        "\n",
        "\n",
        "    ax.set_xlabel(\"X\")\n",
        "    ax.set_ylabel(\"Y\")\n",
        "    ax.set_title(\"Plot das Barras e Conexões\")\n",
        "    ax.legend()\n",
        "    ax.grid(True)\n",
        "    ax.axis('equal')\n",
        "    plt.show()\n",
        "\n",
        "    if(typestruct == 1):\n",
        "      print(\"Os grau de liberdade do liberdade do nó são: Translação em y e Momento, respectivamente\")\n",
        "    elif(typestruct == 2):\n",
        "      print(\"Os grau de liberdade do liberdade do nó são: Translação em x e Translação em y, respectivamente\")\n",
        "    elif(typestruct == 3):\n",
        "      print(\"Os grau de liberdade do liberdade do nó são: Translação em x, Translação em y e Momento, respectivamente\")\n"
      ],
      "metadata": {
        "id": "ihjh73p0GCX-"
      },
      "execution_count": 507,
      "outputs": []
    },
    {
      "cell_type": "markdown",
      "source": [
        "## Montagem do vetor de forças\n",
        "\n",
        "Neste momento vamos montar o vetor de forças que será utilizado no sistema de equações globais. Para isso precisamos das forças nodais e das forças aplicadas nos elementos."
      ],
      "metadata": {
        "id": "F1JQWLbC9EhY"
      }
    },
    {
      "cell_type": "markdown",
      "source": [
        "### Contribuição das forças nodais\n",
        "\n",
        "As forças nodais são colocadas diretamentes nas posições relacionadas ao grau de liberdade da qual ela corresponde.\n"
      ],
      "metadata": {
        "id": "PQ75a0J3Enfj"
      }
    },
    {
      "cell_type": "code",
      "source": [
        "def adiciona_forcas_nodais(ccno, nnoc, ndofn, F):\n",
        "  #Forças que atuam nos nós\n",
        "  for (i, forca) in enumerate(ccno):\n",
        "    indiceForca = nnoc[i]\n",
        "\n",
        "    for (j, valor_no_grau_de_lib) in enumerate(forca):\n",
        "      indiceGrauDeLiberdade = (indiceForca - 1) * ndofn + j\n",
        "      F[indiceGrauDeLiberdade] += valor_no_grau_de_lib\n",
        "\n",
        "  return F"
      ],
      "metadata": {
        "id": "RNQdxGWJE5pJ"
      },
      "execution_count": 508,
      "outputs": []
    },
    {
      "cell_type": "markdown",
      "source": [
        "### Contribuição das forças aplicadas no elemento"
      ],
      "metadata": {
        "id": "q_tThzoCE0jS"
      }
    },
    {
      "cell_type": "markdown",
      "source": [
        "\n",
        "Já as forças aplicadas no elemento são transformadas em forças equivalentes utilizando as ações de engastamento perfeito. Como dito no documento da apresentação do trabalho, foram restringidas as possibilidades de tipos de cargas no elemento. Assim, nesse trecho identificamos cada uma delas e pegamos os valores das forças correspondentes no nos e utilizamos para montar o vetor de forças.\n",
        "\n",
        "Os carregamentos nos elementos permitidos são so seguintes:\n",
        "\n",
        "![image.png](data:image/png;base64,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)\n",
        "\n",
        "Depois de transformar as cargas no elemento em cargas equivalentes nos nós, é necessário fazer um mapeamento para colocar exatamente na posição correspondente do vetor de forças globais."
      ],
      "metadata": {
        "id": "pU1_L5jsThMW"
      }
    },
    {
      "cell_type": "code",
      "source": [
        "def adiciona_forcas_elemento(itylo, ndmbc, ndn, nnoel, ndofn, typestruct, F, barras):\n",
        "  # Forças que atuam no elemento\n",
        "  for (i, forca) in enumerate(itylo):\n",
        "    if typestruct == 2:\n",
        "      raise Exception(\"Treliças não tem carregamentos ao longo da barra, apenas nos nós\")\n",
        "\n",
        "    tipo_carga = forca['type']\n",
        "    elementoId = ndmbc[i]\n",
        "    barra = barras[elementoId - 1]\n",
        "    L = barra.L           # comprimento barra\n",
        "    noInicial = barra.coordNoInic\n",
        "    ids_nos_da_barra = ndn[elementoId-1]\n",
        "\n",
        "    # força equivalente local\n",
        "    feq = np.zeros(nnoel * ndofn)\n",
        "\n",
        "\n",
        "    if tipo_carga == 1:\n",
        "          P = forca[\"mag\"]       # Magnitude da força\n",
        "          posicao = forca[\"pos\"]    # posição\n",
        "\n",
        "          #encontrando o a\n",
        "          a = distancia_entre_pontos(noInicial, posicao)\n",
        "          b = L - a\n",
        "\n",
        "          # Usando a tabela\n",
        "          VA = P * b**2 / L**3 * (3*a + b)\n",
        "          VB = P * a**2 /L**3 * (a + 3*b)\n",
        "          # Momentos (verifique com a tabela de engastamento perfeito!)\n",
        "          MA = (P * a* b**2)/L**2\n",
        "          MB = -(P*a**2*b)/L**2\n",
        "\n",
        "          if(typestruct == 1):\n",
        "            feq[0] = VA\n",
        "            feq[1] = MA\n",
        "            feq[2] = VB\n",
        "            feq[3] = MB\n",
        "          else:\n",
        "            feq[1] = VA\n",
        "            feq[2] = MA\n",
        "            feq[4] = VB\n",
        "            feq[5] = MB\n",
        "    elif tipo_carga == 2:\n",
        "        M = forca[\"mag\"]\n",
        "        posicao = forca[\"pos\"]    # posição\n",
        "\n",
        "        #encontrando o a\n",
        "        a = distancia_entre_pontos(noInicial, posicao)\n",
        "        b = L - a\n",
        "        MA = M*b/L**2 * (2*a - b)\n",
        "        MB = M*a/L**2 * (2*b - a)\n",
        "        VA = (6*M*a*b) / L**3\n",
        "        VB = - VA\n",
        "        if(typestruct == 1):\n",
        "            feq[0] = VA\n",
        "            feq[1] = MA\n",
        "            feq[2] = VB\n",
        "            feq[3] = MB\n",
        "        else:\n",
        "          feq[1] = VA\n",
        "          feq[2] = MA\n",
        "          feq[4] = VB\n",
        "          feq[5] = MB\n",
        "\n",
        "    elif tipo_carga == 3:\n",
        "        P = forca[\"mag\"]\n",
        "        posicao = forca[\"pos\"]    # posição\n",
        "\n",
        "        #encontrando o a\n",
        "        a = distancia_entre_pontos(noInicial, posicao)\n",
        "        b = L - a\n",
        "        VA = P*b/L\n",
        "        VB = P*a/L\n",
        "        if(typestruct == 1):\n",
        "            feq[0] = VA\n",
        "            feq[2] = VB\n",
        "        else:\n",
        "          feq[1] = VA\n",
        "          feq[4] = VB\n",
        "\n",
        "    elif tipo_carga == 4:\n",
        "        raise Exception(\"Não tratamos problema com torsor\")\n",
        "\n",
        "    elif tipo_carga == 5:\n",
        "        P = forca[\"mag\"]\n",
        "        a = forca[\"distanciaNo\"] #distancia a\n",
        "\n",
        "        VA = VB = P\n",
        "        MA = P*a/L*(L-a)\n",
        "        MB = - MA\n",
        "        if(typestruct == 1):\n",
        "            feq[0] = VA\n",
        "            feq[1] = MA\n",
        "            feq[2] = VB\n",
        "            feq[3] = MB\n",
        "        else:\n",
        "          feq[1] = VA\n",
        "          feq[2] = MA\n",
        "          feq[4] = VB\n",
        "          feq[5] = MB\n",
        "\n",
        "    elif tipo_carga == 6:\n",
        "        # Carga distribuída q ao longo de todo o vão\n",
        "        q = forca[\"mag\"]\n",
        "        VA = q*L/2.0\n",
        "        MA = q*(L**2)/12.0\n",
        "        VB = q*L/2.0\n",
        "        MB = - q*(L**2)/12.0\n",
        "\n",
        "        if(typestruct == 1):\n",
        "            feq[0] = VA\n",
        "            feq[1] = MA\n",
        "            feq[2] = VB\n",
        "            feq[3] = MB\n",
        "        else:\n",
        "          feq[0] = 0\n",
        "          feq[1] = VA\n",
        "          feq[2] = MA\n",
        "          feq[3] = 0\n",
        "          feq[4] = VB\n",
        "          feq[5] = MB\n",
        "\n",
        "    elif tipo_carga == 7:\n",
        "        q = forca[\"mag\"]\n",
        "        posInicial = forca[\"posInicial\"] #posicaoInicial\n",
        "        posFinal = forca[\"posFinal\"] #posicaoInicial\n",
        "        a = distancia_entre_pontos(posInicial, posFinal)\n",
        "\n",
        "        MA = q*a**2/(12*L**2) * (6*L**2 - 8*a*L + 3*a**2)\n",
        "        MB = - q * a**3/(12* L**2) * (4*L - 3*a)\n",
        "        VA = q*a/(2*L**3) * (2* L**3 - 2*a**2*L + a**3)\n",
        "        VB = q*a**3/(2*L**3) * (2*L - a)\n",
        "\n",
        "        ## caso o carregamento comece no meio da barra e vá até o final\n",
        "        if(posInicial != noInicial):\n",
        "          aux = MA\n",
        "          MA = MB\n",
        "          MB = aux\n",
        "          aux = VA\n",
        "          VA = VB\n",
        "          VB = aux\n",
        "\n",
        "        if(typestruct == 1):\n",
        "            feq[0] = VA\n",
        "            feq[1] = MA\n",
        "            feq[2] = VB\n",
        "            feq[3] = MB\n",
        "        else:\n",
        "          feq[1] = VA\n",
        "          feq[2] = MA\n",
        "          feq[4] = VB\n",
        "          feq[5] = MB\n",
        "\n",
        "    elif tipo_carga == 8:\n",
        "        q = forca[\"altura\"]\n",
        "        ladoAltura = forca['ladoAltura']\n",
        "        a = distancia_entre_pontos(posInicial, posFinal)\n",
        "\n",
        "        MA = q*L**2/30\n",
        "        MB = - q*L**2/20\n",
        "        VA = 3*q*L/20\n",
        "        VB = 7*q*L/20\n",
        "\n",
        "        ## caso o maior lado do triangulo esteja a esquerda\n",
        "        if(ladoAltura == 0):\n",
        "          aux = MA\n",
        "          MA = MB\n",
        "          MB = aux\n",
        "          aux = VA\n",
        "          VA = VB\n",
        "          VB = aux\n",
        "\n",
        "        if(typestruct == 1):\n",
        "            feq[0] = VA\n",
        "            feq[1] = MA\n",
        "            feq[2] = VB\n",
        "            feq[3] = MB\n",
        "        else:\n",
        "          feq[1] = VA\n",
        "          feq[2] = MA\n",
        "          feq[4] = VB\n",
        "          feq[5] = MB\n",
        "\n",
        "    else:\n",
        "        raise Exception(\n",
        "            f\"Tipo de carga {tipo_carga} ainda não implementado na função.\"\n",
        "        )\n",
        "\n",
        "    # se for inputado os graus deliberdade já no eixo global não precisa desse passo\n",
        "    feq = barra.matrizRotacao() @ feq\n",
        "\n",
        "    for ii in range(nnoel):\n",
        "      GDLInicialGlobalDoNo = (ids_nos_da_barra[ii] - 1) * ndofn\n",
        "      for jj in range(ndofn):\n",
        "        F[GDLInicialGlobalDoNo + jj] += feq[jj + (ii * ndofn)]\n",
        "\n",
        "\n",
        "  return F"
      ],
      "metadata": {
        "id": "bZz7RkqF77HH"
      },
      "execution_count": 509,
      "outputs": []
    },
    {
      "cell_type": "markdown",
      "source": [
        "## Tratando os apoios"
      ],
      "metadata": {
        "id": "me4M_ieSOFtm"
      }
    },
    {
      "cell_type": "markdown",
      "source": [
        "Localizamos os graus de liberdade que estão restritos devido aos apoios e removemos suas respectivas linhas e colunas da matriz global, e removemos também a linha do vetor F"
      ],
      "metadata": {
        "id": "tqke_t1CCN0J"
      }
    },
    {
      "cell_type": "code",
      "source": [
        "def tratando_apoios(nccdesl, itydisp, nnr, ndofn, matriz_global, F):\n",
        "  apoios = np.zeros(nccdesl)\n",
        "  restricoes = []\n",
        "\n",
        "  for (i, graus_de_liberdade) in enumerate(itydisp) :\n",
        "    indiceNo = nnr[i]\n",
        "\n",
        "    for(j, restricao) in enumerate(graus_de_liberdade):\n",
        "      # \"remover\" a linha e coluna relacionada a esse grau de liberdade\n",
        "      grauDeLiberdadeGlobal = (indiceNo - 1) * ndofn + j\n",
        "\n",
        "      if(restricao == 1):\n",
        "        restricoes.append(grauDeLiberdadeGlobal)\n",
        "\n",
        "  matriz_global_somente_incognitas = np.delete(matriz_global, restricoes, axis=0)\n",
        "  matriz_global_somente_incognitas = np.delete(matriz_global_somente_incognitas, restricoes, axis=1)\n",
        "  F_somente_incognitas = np.delete(F, restricoes)\n",
        "\n",
        "  return matriz_global_somente_incognitas, F_somente_incognitas, restricoes"
      ],
      "metadata": {
        "id": "05MUZ3D0OI6E"
      },
      "execution_count": 510,
      "outputs": []
    },
    {
      "cell_type": "markdown",
      "source": [
        "## Encontrando os deslocamentos"
      ],
      "metadata": {
        "id": "yEsHnkTVGJij"
      }
    },
    {
      "cell_type": "markdown",
      "source": [
        "Como mostrado na apostila, os deslocamentos de cada um dos graus de liberdade que não estão restritos são encontrados a partir do seguinte sistema:\n",
        "\n",
        "$$\n",
        "[K]\\{u\\} = \\{F\\}\n",
        "$$\n",
        "\n",
        "Onde $K$ é a matriz de rigidez somente dos graus de liberdade não restritos,\n",
        "\n",
        "$u$ é o vetor de deslocamentos dos graus de liberdade não restritos,\n",
        "\n",
        "$F$ é o vetor das forças relacionadas com os graus de liberdade não restritos\n",
        "\n",
        "\n",
        "Revolvemos o sistema utilizando a função solve da biblioteca do numpy do python"
      ],
      "metadata": {
        "id": "GfDSI8L1D458"
      }
    },
    {
      "cell_type": "code",
      "source": [
        "def encontra_deslocamentos(K, F):\n",
        "  return np.linalg.solve(K, F)"
      ],
      "metadata": {
        "id": "fJyyoHddGJMZ"
      },
      "execution_count": 511,
      "outputs": []
    },
    {
      "cell_type": "markdown",
      "source": [
        "## Cálculo das reações de apoio\n"
      ],
      "metadata": {
        "id": "xPEY9nPS3ogZ"
      }
    },
    {
      "cell_type": "markdown",
      "source": [
        "Para o cálcluo das reações de apoio, vamos utilizar a seguinte relação:\n",
        "\n",
        "$$\n",
        "\\{F_r\\} = \\{F_{RL}\\}  + [K_{RD}]\\{d\\}\n",
        "$$\n",
        "\n",
        "Onde $\\{F_r\\}$ é o vetor das reações de apoio relacionadas ao grau de liberdade correspondente,\n",
        "\n",
        "$\\{F_{RL}\\}$ é o vetor de forças relacionados com os graus de liberdade restritos,\n",
        "\n",
        "$[K_{RD}]$ é uma matriz de rigidez que corresponde as linhas dos graus de liberdade restritos e as colunas dos graus de liberdade não restritos da matriz global\n",
        "\n",
        "e $\\{d\\}$ é o vetor dos deslocamentos relacionados aos graus de liberdade livres"
      ],
      "metadata": {
        "id": "hzN5EygpTVG-"
      }
    },
    {
      "cell_type": "code",
      "source": [
        "def calcula_reacoes_de_apoio(ndofn, nno, restricoes, F, matriz_global):\n",
        "  graus_de_liberdade = np.arange(0, (ndofn * nno))\n",
        "  graus_de_liberdade_restantes = np.setdiff1d(graus_de_liberdade, np.array(restricoes))\n",
        "\n",
        "  matriz_para_reacoes_apoio = np.delete(matriz_global, graus_de_liberdade_restantes, axis=0)\n",
        "  matriz_para_reacoes_apoio = np.delete(matriz_para_reacoes_apoio, restricoes, axis=1)\n",
        "  F_para_reacoes_apoio = np.delete(F, graus_de_liberdade_restantes)\n",
        "  print(matriz_para_reacoes_apoio, - F_para_reacoes_apoio)\n",
        "\n",
        "  reacoes = - F_para_reacoes_apoio + (matriz_para_reacoes_apoio @  deslocamentos)\n",
        "  return reacoes"
      ],
      "metadata": {
        "id": "V4GG291S3rhF"
      },
      "execution_count": 512,
      "outputs": []
    },
    {
      "cell_type": "markdown",
      "source": [
        "## Cálculos dos esforços simples finais de extremidade elemento\n",
        "\n",
        "@TODO"
      ],
      "metadata": {
        "id": "Kv-c7qENI0uW"
      }
    },
    {
      "cell_type": "markdown",
      "source": [
        "# Resolução de uma Viga\n",
        "\n"
      ],
      "metadata": {
        "id": "ioRQ4VyGJJWh"
      }
    },
    {
      "cell_type": "markdown",
      "source": [
        "Agora vamos resolver o exemplo 2 da apostila.\n",
        "\n",
        "As dimensões foram trocadas de t para KN.\n",
        "\n",
        "Dados utilizados para resolução do problema:\n",
        "\n",
        "$E = 1.67 \\times 10^6 $ MPa\n",
        "\n",
        "$v = 0.3$\n",
        "\n",
        "$A = 0.18 m^2$\n",
        "\n",
        "$I = 0.0054 m^4$\n",
        "\n",
        "\n",
        "\n",
        "![image.png](data:image/png;base64,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)"
      ],
      "metadata": {
        "id": "xcSaRVfeqtQn"
      }
    },
    {
      "cell_type": "markdown",
      "source": [
        "### Entrada de dados"
      ],
      "metadata": {
        "id": "mL96UQMXKxOh"
      }
    },
    {
      "cell_type": "code",
      "source": [
        "filename = 'dados_modelo_ex2.json'\n",
        "data = read_data_json(filename)\n",
        "print(data)"
      ],
      "metadata": {
        "colab": {
          "base_uri": "https://localhost:8080/"
        },
        "id": "S5fx1pvEKyAu",
        "outputId": "3d92166b-c861-4d68-8382-6a061e21a8ab"
      },
      "execution_count": 513,
      "outputs": [
        {
          "output_type": "stream",
          "name": "stdout",
          "text": [
            "{'nno': 5, 'nel': 4, 'nnoel': 2, 'ndofn': 2, 'ntm': 1, 'nts': 1, 'typestruct': 1, 'coor': [[0, 0], [8, 0], [14, 0], [20, 0], [23, 0]], 'ndn': [[1, 2], [2, 3], [3, 4], [4, 5]], 'intm': [1, 1, 1, 1], 'ints': [1, 1, 1, 1], 'E': [1670000], 'nu': [0.3], 'rho': [1], 'A': [0.18], 'Iz': [0.0054], 'sf': [1], 'G': [642307.6923076923]}\n"
          ]
        }
      ]
    },
    {
      "cell_type": "markdown",
      "source": [
        "### Instancia barras"
      ],
      "metadata": {
        "id": "FaBaXWY2K_Zg"
      }
    },
    {
      "cell_type": "code",
      "source": [
        "barras = instanciar_barras(data['nel'], data['ints'], data['intm'], data['Iz'] , data['E'], data['A'], data['ndn'], data['coor'], data['typestruct'])"
      ],
      "metadata": {
        "colab": {
          "base_uri": "https://localhost:8080/"
        },
        "id": "2aJqd-nGOZzu",
        "outputId": "be48a4ca-5d80-4d49-d805-f08ca4e83297"
      },
      "execution_count": 514,
      "outputs": [
        {
          "output_type": "stream",
          "name": "stdout",
          "text": [
            "ID: 0, NoI: [0 0], NoF: [8 0], L: 8.00, Ângulo: 0.00, A: 0.18, I: 5.40e-03, E: 1.67e+06\n",
            "ID: 1, NoI: [8 0], NoF: [14  0], L: 6.00, Ângulo: 0.00, A: 0.18, I: 5.40e-03, E: 1.67e+06\n",
            "ID: 2, NoI: [14  0], NoF: [20  0], L: 6.00, Ângulo: 0.00, A: 0.18, I: 5.40e-03, E: 1.67e+06\n",
            "ID: 3, NoI: [20  0], NoF: [23  0], L: 3.00, Ângulo: 0.00, A: 0.18, I: 5.40e-03, E: 1.67e+06\n"
          ]
        }
      ]
    },
    {
      "cell_type": "markdown",
      "source": [
        "## imprime barra"
      ],
      "metadata": {
        "id": "Z_7QZxPLF51c"
      }
    },
    {
      "cell_type": "code",
      "source": [
        "plot_barras(barras, data['ndn'], data['coor'], data['ndofn'], data['typestruct'])"
      ],
      "metadata": {
        "colab": {
          "base_uri": "https://localhost:8080/",
          "height": 735
        },
        "id": "q47aYAnBF7mV",
        "outputId": "95df60fd-efb6-45f9-a361-e3c35def1478"
      },
      "execution_count": 515,
      "outputs": [
        {
          "output_type": "display_data",
          "data": {
            "text/plain": [
              "<Figure size 800x800 with 1 Axes>"
            ],
            "image/png": "[encoded data removed]"
          },
          "metadata": {}
        },
        {
          "output_type": "stream",
          "name": "stdout",
          "text": [
            "Os grau de liberdade do liberdade do nó são: Translação em y e Momento, respectivamente\n"
          ]
        }
      ]
    },
    {
      "cell_type": "markdown",
      "source": [
        "### matriz global"
      ],
      "metadata": {
        "id": "PKflvjaPOjpu"
      }
    },
    {
      "cell_type": "code",
      "source": [
        "matriz_global = monta_matriz_global(barras, data['nno'], data['ndofn'], data['nnoel'], data['ndn'])"
      ],
      "metadata": {
        "id": "5EV0cqkDPEVZ"
      },
      "execution_count": 516,
      "outputs": []
    },
    {
      "cell_type": "markdown",
      "source": [
        "### Finalizando entrada de dados"
      ],
      "metadata": {
        "id": "0gPaoC0KPSNc"
      }
    },
    {
      "cell_type": "code",
      "source": [
        "dados_carregamento = ler_cargas_struct(\"cargas_ex2.JSON\", data['nno'], data['nel'], data['ndofn'])\n",
        "print(dados_carregamento)"
      ],
      "metadata": {
        "colab": {
          "base_uri": "https://localhost:8080/"
        },
        "id": "qIFoE0rWPU3p",
        "outputId": "5f882387-6a97-4462-f68b-42b51be21114"
      },
      "execution_count": 517,
      "outputs": [
        {
          "output_type": "stream",
          "name": "stdout",
          "text": [
            "{'nnc': 1, 'nele': 3, 'nnoc': [5], 'ccno': [[-10, 0]], 'ndmbc': [1, 2, 3], 'itylo': [{'type': 1, 'mag': -8, 'pos': [4, 0]}, {'type': 6, 'mag': -10}, {'type': 6, 'mag': -10}], 'nccdesl': 4, 'nnr': [1, 2, 3, 4], 'itydisp': [[1, 1], [1, 0], [1, 0], [1, 0]]}\n"
          ]
        }
      ]
    },
    {
      "cell_type": "markdown",
      "source": [
        "### montagem vetor de forcas"
      ],
      "metadata": {
        "id": "CLMQWSH4PwxZ"
      }
    },
    {
      "cell_type": "code",
      "source": [
        "F = np.zeros(data['nno']* data['ndofn'])\n",
        "print(F)\n",
        "F = adiciona_forcas_nodais(dados_carregamento['ccno'], dados_carregamento['nnoc'], data['ndofn'], F)\n",
        "print(F)\n",
        "F = adiciona_forcas_elemento(dados_carregamento['itylo'], dados_carregamento['ndmbc'], data['ndn'], data['nnoel'], data['ndofn'], data['typestruct'], F, barras)\n",
        "print(F)"
      ],
      "metadata": {
        "colab": {
          "base_uri": "https://localhost:8080/"
        },
        "id": "udcXf4rmP04u",
        "outputId": "2fa027c3-13fd-43e1-d87b-cb22b79a2e9b"
      },
      "execution_count": 518,
      "outputs": [
        {
          "output_type": "stream",
          "name": "stdout",
          "text": [
            "[0. 0. 0. 0. 0. 0. 0. 0. 0. 0.]\n",
            "[  0.   0.   0.   0.   0.   0.   0.   0. -10.   0.]\n",
            "[ -4.  -8. -34. -22. -60.   0. -30.  30. -10.   0.]\n"
          ]
        }
      ]
    },
    {
      "cell_type": "markdown",
      "source": [
        "### Tratando apoios"
      ],
      "metadata": {
        "id": "NEvApOyoRR1I"
      }
    },
    {
      "cell_type": "code",
      "source": [
        "matriz_somente_icncognitas, F_somente_incognitas, restricoes = tratando_apoios(dados_carregamento['nccdesl'], dados_carregamento['itydisp'], dados_carregamento['nnr'], data['ndofn'], matriz_global, F)"
      ],
      "metadata": {
        "id": "unsTTFWHR5fM"
      },
      "execution_count": 519,
      "outputs": []
    },
    {
      "cell_type": "markdown",
      "source": [
        "## Encontrando deslocamentos"
      ],
      "metadata": {
        "id": "0Nxes_NtPlcF"
      }
    },
    {
      "cell_type": "code",
      "source": [
        "deslocamentos = encontra_deslocamentos(matriz_somente_icncognitas, F_somente_incognitas)\n",
        "deslocamentos"
      ],
      "metadata": {
        "colab": {
          "base_uri": "https://localhost:8080/"
        },
        "id": "RHTcEJvWSfMR",
        "outputId": "3432a84b-9035-498d-8e09-73665868ec27"
      },
      "execution_count": 520,
      "outputs": [
        {
          "output_type": "execute_result",
          "data": {
            "text/plain": [
              "array([-0.00227693,  0.00065055, -0.00032528, -0.01095587, -0.0053153 ])"
            ]
          },
          "metadata": {},
          "execution_count": 520
        }
      ]
    },
    {
      "cell_type": "markdown",
      "source": [
        "### Reações de apoio"
      ],
      "metadata": {
        "id": "jqqYhqHFSetQ"
      }
    },
    {
      "cell_type": "code",
      "source": [
        "reacoes_de_apoio = calcula_reacoes_de_apoio(data['ndofn'], data['nno'], restricoes, F, matriz_global)\n",
        "reacoes_de_apoio"
      ],
      "metadata": {
        "colab": {
          "base_uri": "https://localhost:8080/"
        },
        "id": "aYtiorwqTJgj",
        "outputId": "cab12814-8d2f-4b20-f973-29b5028f6611"
      },
      "execution_count": 521,
      "outputs": [
        {
          "output_type": "stream",
          "name": "stdout",
          "text": [
            "[[  845.4375     0.         0.         0.         0.    ]\n",
            " [ 2254.5        0.         0.         0.         0.    ]\n",
            " [  657.5625  1503.         0.         0.         0.    ]\n",
            " [-1503.         0.      1503.         0.         0.    ]\n",
            " [    0.     -1503.      4509.     -4008.      6012.    ]] [ 4.  8. 34. 60. 30.]\n"
          ]
        },
        {
          "output_type": "execute_result",
          "data": {
            "text/plain": [
              "array([ 2.075     ,  2.86666667, 33.48055556, 62.93333333, 39.51111111])"
            ]
          },
          "metadata": {},
          "execution_count": 521
        }
      ]
    },
    {
      "cell_type": "markdown",
      "source": [
        "### Cálculo de esforços simples finais de extremidade elemento"
      ],
      "metadata": {
        "id": "RR-ZquOxToOF"
      }
    },
    {
      "cell_type": "code",
      "source": [
        "# TODO"
      ],
      "metadata": {
        "id": "IWOH2KHATn-U"
      },
      "execution_count": 522,
      "outputs": []
    },
    {
      "cell_type": "markdown",
      "source": [
        "# Resolução de Treliça"
      ],
      "metadata": {
        "id": "E-hwBWrXqmjA"
      }
    },
    {
      "cell_type": "markdown",
      "source": [
        "Agora vamos resolver o exemplo 5 da apostila.\n",
        "\n",
        "Dados utilizados para resolução do problema:\n",
        "\n",
        "$E = 2.333333 \\times 10^5 KN/m^2 $\n",
        "\n",
        "$v = 0.3$\n",
        "\n",
        "$A = 0.18 m^2$\n",
        "\n",
        "$I = 0.0054 m^4$\n"
      ],
      "metadata": {
        "id": "Svggou85q8aX"
      }
    },
    {
      "cell_type": "markdown",
      "source": [
        "### Entrada de dados"
      ],
      "metadata": {
        "id": "MchS05JNsPrP"
      }
    },
    {
      "cell_type": "code",
      "source": [
        "filename = 'dados_modelo_ex5.JSON'\n",
        "data = read_data_json(filename)\n",
        "print(data)"
      ],
      "metadata": {
        "colab": {
          "base_uri": "https://localhost:8080/"
        },
        "outputId": "27fb75ba-e0bb-4355-cba3-f813f3e37570",
        "id": "gQz8BwS7sPrP"
      },
      "execution_count": 523,
      "outputs": [
        {
          "output_type": "stream",
          "name": "stdout",
          "text": [
            "{'nno': 4, 'nel': 3, 'nnoel': 2, 'ndofn': 2, 'ntm': 1, 'nts': 1, 'typestruct': 2, 'coor': [[0, 0], [3, 0], [6, 0], [3, -4]], 'ndn': [[1, 4], [2, 4], [3, 4]], 'intm': [1, 1, 1], 'ints': [1, 1, 1], 'E': [233333.33], 'nu': [0.3], 'rho': [1], 'A': [0.18], 'Iz': [0.0054], 'sf': [1], 'G': [89743.58846153846]}\n"
          ]
        }
      ]
    },
    {
      "cell_type": "markdown",
      "source": [
        "### Instancia barras"
      ],
      "metadata": {
        "id": "hsqorCNDsPrQ"
      }
    },
    {
      "cell_type": "code",
      "source": [
        "barras = instanciar_barras(data['nel'], data['ints'], data['intm'], data['Iz'] , data['E'], data['A'], data['ndn'], data['coor'], data['typestruct'])\n",
        "\n",
        "# for i in range(len(barras)):\n",
        "#   print(barras[i].matrizRigidezLocal())"
      ],
      "metadata": {
        "colab": {
          "base_uri": "https://localhost:8080/"
        },
        "outputId": "49d0f063-eb0e-4dba-826d-798685b03ab1",
        "id": "DnibA7TpsPrQ"
      },
      "execution_count": 524,
      "outputs": [
        {
          "output_type": "stream",
          "name": "stdout",
          "text": [
            "ID: 0, NoI: [0 0], NoF: [ 3 -4], L: 5.00, Ângulo: -0.93, A: 0.18, E: 2.33e+05\n",
            "ID: 1, NoI: [3 0], NoF: [ 3 -4], L: 4.00, Ângulo: -1.57, A: 0.18, E: 2.33e+05\n",
            "ID: 2, NoI: [6 0], NoF: [ 3 -4], L: 5.00, Ângulo: -2.21, A: 0.18, E: 2.33e+05\n"
          ]
        }
      ]
    },
    {
      "cell_type": "markdown",
      "source": [
        "## imprime a estrutura"
      ],
      "metadata": {
        "id": "VAF3c9UoCGQ8"
      }
    },
    {
      "cell_type": "code",
      "source": [
        "plot_barras(barras, data['ndn'], data['coor'], data['ndofn'], data['typestruct'])"
      ],
      "metadata": {
        "colab": {
          "base_uri": "https://localhost:8080/",
          "height": 735
        },
        "id": "VtwdoZDiCK6n",
        "outputId": "fbf7821a-4aed-4e7a-f1b5-d5851b0e6a03"
      },
      "execution_count": 525,
      "outputs": [
        {
          "output_type": "display_data",
          "data": {
            "text/plain": [
              "<Figure size 800x800 with 1 Axes>"
            ],
            "image/png": "[encoded data removed]"
          },
          "metadata": {}
        },
        {
          "output_type": "stream",
          "name": "stdout",
          "text": [
            "Os grau de liberdade do liberdade do nó são: Translação em x e Translação em y, respectivamente\n"
          ]
        }
      ]
    },
    {
      "cell_type": "markdown",
      "source": [
        "### matriz global"
      ],
      "metadata": {
        "id": "75ZALsztsPrQ"
      }
    },
    {
      "cell_type": "code",
      "source": [
        "matriz_global = monta_matriz_global(barras, data['nno'], data['ndofn'], data['nnoel'], data['ndn'])\n",
        "# print(matriz_global)\n",
        "print(np.array2string(matriz_global, precision=2, separator=', ', formatter={'float_kind': lambda x: f\"{x:.2f}\"}))"
      ],
      "metadata": {
        "colab": {
          "base_uri": "https://localhost:8080/"
        },
        "id": "t1Sy1ETTsPrQ",
        "outputId": "d57d9b45-b26b-424a-bbd3-cd5ff057710e"
      },
      "execution_count": 526,
      "outputs": [
        {
          "output_type": "stream",
          "name": "stdout",
          "text": [
            "[[3024.00, -4032.00, 0.00, 0.00, 0.00, 0.00, -3024.00, 4032.00],\n",
            " [-4032.00, 5376.00, 0.00, 0.00, 0.00, 0.00, 4032.00, -5376.00],\n",
            " [0.00, 0.00, 0.00, -0.00, 0.00, 0.00, -0.00, 0.00],\n",
            " [0.00, 0.00, -0.00, 10500.00, 0.00, 0.00, 0.00, -10500.00],\n",
            " [0.00, 0.00, 0.00, 0.00, 3024.00, 4032.00, -3024.00, -4032.00],\n",
            " [0.00, 0.00, 0.00, 0.00, 4032.00, 5376.00, -4032.00, -5376.00],\n",
            " [-3024.00, 4032.00, -0.00, 0.00, -3024.00, -4032.00, 6048.00, -0.00],\n",
            " [4032.00, -5376.00, 0.00, -10500.00, -4032.00, -5376.00, -0.00, 21252.00]]\n"
          ]
        }
      ]
    },
    {
      "cell_type": "markdown",
      "source": [
        "### Finalizando entrada de dados"
      ],
      "metadata": {
        "id": "dg9UUIFgsPrQ"
      }
    },
    {
      "cell_type": "code",
      "source": [
        "dados_carregamento = ler_cargas_struct(\"cargas_ex5.json\", data['nno'], data['nel'], data['ndofn'])\n",
        "print(dados_carregamento)"
      ],
      "metadata": {
        "colab": {
          "base_uri": "https://localhost:8080/"
        },
        "outputId": "49c9fae9-b39e-4c65-fe5f-ee064c117147",
        "id": "bsRMcrwKsPrQ"
      },
      "execution_count": 527,
      "outputs": [
        {
          "output_type": "stream",
          "name": "stdout",
          "text": [
            "{'nnc': 1, 'nele': 0, 'nnoc': [4], 'ccno': [[100, -150]], 'ndmbc': [], 'itylo': [], 'nccdesl': 3, 'nnr': [1, 2, 3], 'itydisp': [[1, 1], [1, 1], [1, 1]]}\n"
          ]
        }
      ]
    },
    {
      "cell_type": "markdown",
      "source": [
        "### montagem vetor de forcas"
      ],
      "metadata": {
        "id": "e9IUst1OsPrQ"
      }
    },
    {
      "cell_type": "code",
      "source": [
        "F = np.zeros(data['nno']* data['ndofn'])\n",
        "F = adiciona_forcas_nodais(dados_carregamento['ccno'], dados_carregamento['nnoc'], data['ndofn'], F)\n",
        "F = adiciona_forcas_elemento(dados_carregamento['itylo'], dados_carregamento['ndmbc'], data['ndn'], data['nnoel'], data['ndofn'], data['typestruct'], F, barras)\n",
        "print(F)"
      ],
      "metadata": {
        "colab": {
          "base_uri": "https://localhost:8080/"
        },
        "outputId": "304a665e-785a-4492-fad4-da586548de91",
        "id": "ZU1h-kdIsPrQ"
      },
      "execution_count": 528,
      "outputs": [
        {
          "output_type": "stream",
          "name": "stdout",
          "text": [
            "[   0.    0.    0.    0.    0.    0.  100. -150.]\n"
          ]
        }
      ]
    },
    {
      "cell_type": "markdown",
      "source": [
        "### Tratando apoios"
      ],
      "metadata": {
        "id": "bbzsccOgsPrR"
      }
    },
    {
      "cell_type": "code",
      "source": [
        "matriz_somente_incognitas, F_somente_incognitas, restricoes = tratando_apoios(dados_carregamento['nccdesl'], dados_carregamento['itydisp'], dados_carregamento['nnr'], data['ndofn'], matriz_global, F)\n",
        "\n",
        "print(matriz_somente_incognitas, F_somente_incognitas)\n",
        "\n",
        "print(restricoes)"
      ],
      "metadata": {
        "colab": {
          "base_uri": "https://localhost:8080/"
        },
        "id": "UuVLSdLIsPrR",
        "outputId": "2aee765a-1dee-4d62-f317-b1b6eafa4526"
      },
      "execution_count": 529,
      "outputs": [
        {
          "output_type": "stream",
          "name": "stdout",
          "text": [
            "[[ 6.04799991e+03 -9.09494702e-13]\n",
            " [-9.09494702e-13  2.12519997e+04]] [ 100. -150.]\n",
            "[0, 1, 2, 3, 4, 5]\n"
          ]
        }
      ]
    },
    {
      "cell_type": "markdown",
      "source": [
        "## Encontrando deslocamentos"
      ],
      "metadata": {
        "id": "TORuqgW_sPrR"
      }
    },
    {
      "cell_type": "code",
      "source": [
        "deslocamentos = encontra_deslocamentos(matriz_somente_incognitas, F_somente_incognitas)\n",
        "deslocamentos"
      ],
      "metadata": {
        "colab": {
          "base_uri": "https://localhost:8080/"
        },
        "outputId": "bbe52ef9-93fd-4d2e-f817-ae0ef786b34d",
        "id": "e_gUtpgWsPrR"
      },
      "execution_count": 530,
      "outputs": [
        {
          "output_type": "execute_result",
          "data": {
            "text/plain": [
              "array([ 0.01653439, -0.00705816])"
            ]
          },
          "metadata": {},
          "execution_count": 530
        }
      ]
    },
    {
      "cell_type": "markdown",
      "source": [
        "### Reações de apoio"
      ],
      "metadata": {
        "id": "oPqhhjY-sPrR"
      }
    },
    {
      "cell_type": "code",
      "source": [
        "reacoes_de_apoio = calcula_reacoes_de_apoio(data['ndofn'], data['nno'], restricoes, F, matriz_global)\n",
        "reacoes_de_apoio"
      ],
      "metadata": {
        "colab": {
          "base_uri": "https://localhost:8080/"
        },
        "outputId": "a0d35b6b-ede5-4b20-e29c-b737863a8534",
        "id": "b3iZShZXsPrR"
      },
      "execution_count": 531,
      "outputs": [
        {
          "output_type": "stream",
          "name": "stdout",
          "text": [
            "[[-3.02399996e+03  4.03199994e+03]\n",
            " [ 4.03199994e+03 -5.37599992e+03]\n",
            " [-3.93686937e-29  6.42939560e-13]\n",
            " [ 6.42939560e-13 -1.04999998e+04]\n",
            " [-3.02399996e+03 -4.03199994e+03]\n",
            " [-4.03199994e+03 -5.37599992e+03]] [-0. -0. -0. -0. -0. -0.]\n"
          ]
        },
        {
          "output_type": "execute_result",
          "data": {
            "text/plain": [
              "array([-7.84584980e+01,  1.04611331e+02, -4.53796986e-15,  7.41106719e+01,\n",
              "       -2.15415020e+01, -2.87220026e+01])"
            ]
          },
          "metadata": {},
          "execution_count": 531
        }
      ]
    },
    {
      "cell_type": "markdown",
      "source": [
        "### Cálculo de esforços simples finais de extremidade elemento"
      ],
      "metadata": {
        "id": "KEumMv2jsPrR"
      }
    },
    {
      "cell_type": "code",
      "source": [
        "# TODO"
      ],
      "metadata": {
        "id": "KO7RlFK6sPrR"
      },
      "execution_count": 532,
      "outputs": []
    },
    {
      "cell_type": "markdown",
      "source": [
        "# Resolução de Pórtico"
      ],
      "metadata": {
        "id": "mSsLCncILeMB"
      }
    },
    {
      "cell_type": "markdown",
      "source": [
        "Agora vamos resolver o exemplo 6 da apostila.\n",
        "\n",
        "Dados utilizados para resolução do problema:\n",
        "\n",
        "$E = 3.2 \\times 10^7 KN/m^2 $\n",
        "\n",
        "$v = 0.3$\n",
        "\n",
        "$A = 0.14 m^2$\n",
        "\n",
        "$I = 0.005717 m^4$\n"
      ],
      "metadata": {
        "id": "dvID2_g4LeMC"
      }
    },
    {
      "cell_type": "markdown",
      "source": [
        "### Entrada de dados"
      ],
      "metadata": {
        "id": "6sjuf6oxLeMC"
      }
    },
    {
      "cell_type": "code",
      "source": [
        "filename = 'dados_modelo_ex6.JSON'\n",
        "data = read_data_json(filename)\n",
        "print(data)"
      ],
      "metadata": {
        "colab": {
          "base_uri": "https://localhost:8080/"
        },
        "outputId": "4543761b-78d9-40ae-d2f9-ade394fe9456",
        "id": "ohsdQIh2LeMC"
      },
      "execution_count": 533,
      "outputs": [
        {
          "output_type": "stream",
          "name": "stdout",
          "text": [
            "{'nno': 3, 'nel': 2, 'nnoel': 2, 'ndofn': 3, 'ntm': 1, 'nts': 1, 'typestruct': 3, 'coor': [[0, 0], [6, 0], [6, -3]], 'ndn': [[1, 2], [2, 3]], 'intm': [1, 1], 'ints': [1, 1], 'E': [32000000], 'nu': [0.3], 'rho': [1], 'A': [0.14], 'Iz': [0.005717], 'sf': [1], 'G': [12307692.307692308]}\n"
          ]
        }
      ]
    },
    {
      "cell_type": "markdown",
      "source": [
        "### Instancia barras"
      ],
      "metadata": {
        "id": "GvS9cVsYLeMC"
      }
    },
    {
      "cell_type": "code",
      "source": [
        "barras = instanciar_barras(data['nel'], data['ints'], data['intm'], data['Iz'] , data['E'], data['A'], data['ndn'], data['coor'], data['typestruct'])\n",
        "\n",
        "# for i in range(len(barras)):\n",
        "#   print(barras[i].matrizRigidezLocal())"
      ],
      "metadata": {
        "colab": {
          "base_uri": "https://localhost:8080/"
        },
        "outputId": "ca0c8e14-38f8-46c7-e32c-54891d0cf394",
        "id": "kOXKBPR5LeMD"
      },
      "execution_count": 540,
      "outputs": [
        {
          "output_type": "stream",
          "name": "stdout",
          "text": [
            "ID: 0, NoI: [0 0], NoF: [6 0], L: 6.00, Ângulo: 0.00, A: 0.14, I: 5.72e-03, E: 3.20e+07\n",
            "ID: 1, NoI: [6 0], NoF: [ 6 -3], L: 3.00, Ângulo: -1.57, A: 0.14, I: 5.72e-03, E: 3.20e+07\n"
          ]
        }
      ]
    },
    {
      "cell_type": "markdown",
      "source": [
        "## imprime a estrutura"
      ],
      "metadata": {
        "id": "zkdiRdl1LeMD"
      }
    },
    {
      "cell_type": "code",
      "source": [
        "plot_barras(barras, data['ndn'], data['coor'], data['ndofn'], data['typestruct'])"
      ],
      "metadata": {
        "colab": {
          "base_uri": "https://localhost:8080/",
          "height": 735
        },
        "outputId": "b600e9c4-3443-4a11-fa80-45efe83f36c0",
        "id": "eLyoHXUwLeMD"
      },
      "execution_count": 541,
      "outputs": [
        {
          "output_type": "display_data",
          "data": {
            "text/plain": [
              "<Figure size 800x800 with 1 Axes>"
            ],
            "image/png": "[encoded data removed]"
          },
          "metadata": {}
        },
        {
          "output_type": "stream",
          "name": "stdout",
          "text": [
            "Os grau de liberdade do liberdade do nó são: Translação em x, Translação em y e Momento, respectivamente\n"
          ]
        }
      ]
    },
    {
      "cell_type": "markdown",
      "source": [
        "### matriz global"
      ],
      "metadata": {
        "id": "yIXHWFB0LeMD"
      }
    },
    {
      "cell_type": "code",
      "source": [
        "matriz_global = monta_matriz_global(barras, data['nno'], data['ndofn'], data['nnoel'], data['ndn'])\n",
        "# print(matriz_global)\n",
        "print(np.array2string(matriz_global, precision=2, separator=', ', formatter={'float_kind': lambda x: f\"{x:.2f}\"}))"
      ],
      "metadata": {
        "colab": {
          "base_uri": "https://localhost:8080/"
        },
        "outputId": "cc2ae170-5395-4ceb-e82e-2d6643285498",
        "id": "0jCJYwWULeMD"
      },
      "execution_count": 542,
      "outputs": [
        {
          "output_type": "stream",
          "name": "stdout",
          "text": [
            "[[746666.67, 0.00, 0.00, -746666.67, 0.00, 0.00, 0.00, 0.00, 0.00],\n",
            " [0.00, 10163.56, 30490.67, 0.00, -10163.56, 30490.67, 0.00, 0.00, 0.00],\n",
            " [0.00, 30490.67, 121962.67, 0.00, -30490.67, 60981.33, 0.00, 0.00, 0.00],\n",
            " [-746666.67, 0.00, 0.00, 827975.11, -0.00, 121962.67, -81308.44, 0.00,\n",
            "  121962.67],\n",
            " [0.00, -10163.56, -30490.67, -0.00, 1503496.89, -30490.67, 0.00,\n",
            "  -1493333.33, 0.00],\n",
            " [0.00, 30490.67, 60981.33, 121962.67, -30490.67, 365888.00, -121962.67,\n",
            "  -0.00, 121962.67],\n",
            " [0.00, 0.00, 0.00, -81308.44, 0.00, -121962.67, 81308.44, -0.00,\n",
            "  -121962.67],\n",
            " [0.00, 0.00, 0.00, 0.00, -1493333.33, -0.00, -0.00, 1493333.33, -0.00],\n",
            " [0.00, 0.00, 0.00, 121962.67, 0.00, 121962.67, -121962.67, -0.00,\n",
            "  243925.33]]\n"
          ]
        }
      ]
    },
    {
      "cell_type": "markdown",
      "source": [
        "### Finalizando entrada de dados"
      ],
      "metadata": {
        "id": "480j-bi1LeMD"
      }
    },
    {
      "cell_type": "code",
      "source": [
        "dados_carregamento = ler_cargas_struct(\"cargas_ex6.json\", data['nno'], data['nel'], data['ndofn'])\n",
        "print(dados_carregamento)"
      ],
      "metadata": {
        "colab": {
          "base_uri": "https://localhost:8080/"
        },
        "outputId": "65eabb88-b842-4cea-99f8-bc5ce470d5f3",
        "id": "YJvxKAnKLeMD"
      },
      "execution_count": 543,
      "outputs": [
        {
          "output_type": "stream",
          "name": "stdout",
          "text": [
            "{'nnc': 1, 'nele': 1, 'nnoc': [2], 'ccno': [[80, -100, 0]], 'ndmbc': [1], 'itylo': [{'type': 6, 'mag': -40}], 'nccdesl': 2, 'nnr': [1, 3], 'itydisp': [[1, 1, 1], [1, 1, 1]]}\n"
          ]
        }
      ]
    },
    {
      "cell_type": "markdown",
      "source": [
        "### montagem vetor de forcas"
      ],
      "metadata": {
        "id": "NaSrIzh3LeMD"
      }
    },
    {
      "cell_type": "code",
      "source": [
        "F = np.zeros(data['nno']* data['ndofn'])\n",
        "F = adiciona_forcas_nodais(dados_carregamento['ccno'], dados_carregamento['nnoc'], data['ndofn'], F)\n",
        "F = adiciona_forcas_elemento(dados_carregamento['itylo'], dados_carregamento['ndmbc'], data['ndn'], data['nnoel'], data['ndofn'], data['typestruct'], F, barras)\n",
        "print(F)"
      ],
      "metadata": {
        "colab": {
          "base_uri": "https://localhost:8080/"
        },
        "outputId": "0b962c34-f818-4947-c663-9eb2c3c67659",
        "id": "TeH7Bax-LeMD"
      },
      "execution_count": 544,
      "outputs": [
        {
          "output_type": "stream",
          "name": "stdout",
          "text": [
            "[   0. -120. -120.   80. -220.  120.    0.    0.    0.]\n"
          ]
        }
      ]
    },
    {
      "cell_type": "markdown",
      "source": [
        "### Tratando apoios"
      ],
      "metadata": {
        "id": "vGuAieqoLeME"
      }
    },
    {
      "cell_type": "code",
      "source": [
        "matriz_somente_incognitas, F_somente_incognitas, restricoes = tratando_apoios(dados_carregamento['nccdesl'], dados_carregamento['itydisp'], dados_carregamento['nnr'], data['ndofn'], matriz_global, F)\n",
        "\n",
        "print(matriz_somente_incognitas, F_somente_incognitas)\n",
        "\n",
        "print(restricoes)"
      ],
      "metadata": {
        "colab": {
          "base_uri": "https://localhost:8080/"
        },
        "outputId": "e3102fa0-d200-4d2b-d8ef-1d1eb33add61",
        "id": "wvQ_eSu1LeME"
      },
      "execution_count": 545,
      "outputs": [
        {
          "output_type": "stream",
          "name": "stdout",
          "text": [
            "[[ 8.27975111e+05 -8.64615880e-11  1.21962667e+05]\n",
            " [-8.64615880e-11  1.50349689e+06 -3.04906667e+04]\n",
            " [ 1.21962667e+05 -3.04906667e+04  3.65888000e+05]] [  80. -220.  120.]\n",
            "[0, 1, 2, 6, 7, 8]\n"
          ]
        }
      ]
    },
    {
      "cell_type": "markdown",
      "source": [
        "## Encontrando deslocamentos"
      ],
      "metadata": {
        "id": "fwpuvD-cLeME"
      }
    },
    {
      "cell_type": "code",
      "source": [
        "deslocamentos = encontra_deslocamentos(matriz_somente_incognitas, F_somente_incognitas)\n",
        "deslocamentos"
      ],
      "metadata": {
        "colab": {
          "base_uri": "https://localhost:8080/"
        },
        "outputId": "0f356a7c-101b-45dc-824b-d8a61c083138",
        "id": "LF2CpcOMLeME"
      },
      "execution_count": 546,
      "outputs": [
        {
          "output_type": "execute_result",
          "data": {
            "text/plain": [
              "array([ 5.26159196e-05, -1.40267113e-04,  2.98741649e-04])"
            ]
          },
          "metadata": {},
          "execution_count": 546
        }
      ]
    },
    {
      "cell_type": "markdown",
      "source": [
        "### Reações de apoio"
      ],
      "metadata": {
        "id": "pkjGDOywLeME"
      }
    },
    {
      "cell_type": "code",
      "source": [
        "reacoes_de_apoio = calcula_reacoes_de_apoio(data['ndofn'], data['nno'], restricoes, F, matriz_global)\n",
        "reacoes_de_apoio"
      ],
      "metadata": {
        "colab": {
          "base_uri": "https://localhost:8080/"
        },
        "outputId": "86c8a105-bac5-4fe9-99f3-9b9532de216d",
        "id": "I9CMubzcLeME"
      },
      "execution_count": 547,
      "outputs": [
        {
          "output_type": "stream",
          "name": "stdout",
          "text": [
            "[[-7.46666667e+05  0.00000000e+00  0.00000000e+00]\n",
            " [ 0.00000000e+00 -1.01635556e+04  3.04906667e+04]\n",
            " [ 0.00000000e+00 -3.04906667e+04  6.09813333e+04]\n",
            " [-8.13084444e+04  8.64615880e-11 -1.21962667e+05]\n",
            " [ 8.64615880e-11 -1.49333333e+06 -7.46805947e-12]\n",
            " [ 1.21962667e+05  7.46805947e-12  1.21962667e+05]] [ -0. 120. 120.  -0.  -0.  -0.]\n"
          ]
        },
        {
          "output_type": "execute_result",
          "data": {
            "text/plain": [
              "array([-39.28655331, 130.53444462, 142.49450184, -40.71344669,\n",
              "       209.46555538,  42.85250598])"
            ]
          },
          "metadata": {},
          "execution_count": 547
        }
      ]
    },
    {
      "cell_type": "markdown",
      "source": [
        "### Cálculo de esforços simples finais de extremidade elemento"
      ],
      "metadata": {
        "id": "1HByyoGTLeME"
      }
    },
    {
      "cell_type": "code",
      "source": [
        "# TODO"
      ],
      "metadata": {
        "id": "l0VBIbRWLeME"
      },
      "execution_count": null,
      "outputs": []
    },
    {
      "cell_type": "markdown",
      "source": [
        "# Exemplo portico"
      ],
      "metadata": {
        "id": "ADxa2qWgLaKg"
      }
    },
    {
      "cell_type": "code",
      "source": [],
      "metadata": {
        "id": "3qlXRukrLcmD"
      },
      "execution_count": null,
      "outputs": []
    },
    {
      "cell_type": "markdown",
      "source": [
        "\n",
        "\n",
        "*   ✅ Instanciar os objetos que o Gustavo criou\n",
        "  *   Criar a matriz local\n",
        "*   ✅Criar a matriz global\n",
        "  *    rotacionar e colocar a matriz local na global\n",
        "*   ✅ Finalizar a entrada de dados\n",
        "  *    Apoios\n",
        "  *    Forças (geral momento tb) pontuais e carregamentos\n",
        "*   ✅ Vetor de forças\n",
        "  *    Vetor de cargas nodais equivalentes\n",
        "        *   Engasmento perfeito com sinal trocado\n",
        "  *   Cargas aplicadas diretamente sobre os nos\n",
        "* ✅ Encontrar as reações de apoio\n",
        "* Corrigir e testar para outros exemplos\n",
        "  * Viga\n",
        "    * Falta comparar com FTOOL\n",
        "  * treliça\n",
        "  * portico\n",
        "* Imprimir as estruturas e os graus de liberdade\n",
        "* Encontrar os esforços de cada barra\n",
        "  * Cálculo de esforços simples finais de extremidade elemento\n",
        "* Refatorar código\n",
        "  * ▶ Montar relatório\n",
        "  * ✅ Criar funções\n",
        "  * ✅ Utilizar json na primeira leitura também\n",
        "\n",
        "\n",
        "### Limitações:\n",
        "\n",
        "- 2 elementos por barra apenas\n",
        "- Elementos planos apenas\n",
        "- Consideremos apenas apoios que restringem todo o deslocamento (ou rotação)"
      ],
      "metadata": {
        "id": "d9Zn-o201fy9"
      }
    }
  ]
}