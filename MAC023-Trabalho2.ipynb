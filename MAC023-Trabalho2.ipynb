{
  "nbformat": 4,
  "nbformat_minor": 0,
  "metadata": {
    "colab": {
      "provenance": [],
      "collapsed_sections": [
        "6nBJA4u_UzXU",
        "WAOFbJdpUvX8"
      ],
      "include_colab_link": true
    },
    "kernelspec": {
      "name": "python3",
      "display_name": "Python 3"
    },
    "language_info": {
      "name": "python"
    }
  },
  "cells": [
    {
      "cell_type": "markdown",
      "metadata": {
        "id": "view-in-github",
        "colab_type": "text"
      },
      "source": [
        "<a href=\"https://colab.research.google.com/github/Leopalds/metodo-rigidez/blob/main/MAC023-Trabalho2.ipynb\" target=\"_parent\"><img src=\"https://colab.research.google.com/assets/colab-badge.svg\" alt=\"Open In Colab\"/></a>"
      ]
    },
    {
      "cell_type": "code",
      "execution_count": 47,
      "metadata": {
        "id": "Ec29hJSp5ojb"
      },
      "outputs": [],
      "source": [
        "## includes\n",
        "import numpy as np\n",
        "import math"
      ]
    },
    {
      "cell_type": "markdown",
      "source": [
        "## Definição das Classes de Barras"
      ],
      "metadata": {
        "id": "XeFhnYDkSqBw"
      }
    },
    {
      "cell_type": "code",
      "source": [
        "class BarraPorticoPlano:\n",
        "    def __init__(self, id, L, A, I, E, angulo):\n",
        "      self.id = id # identificador da barra\n",
        "      self.L = L # comprimento da barra (m)\n",
        "      self.A = A # area da seção transversal (m²)\n",
        "      self.I = I # momento de inércia da seção (m⁴)\n",
        "      self.E = E # módulo de elasticidade do material (Pa)\n",
        "      self.angulo = math.radians(angulo) # angulo de inclinação da barra em relação ao eixo global, recebido em graus e convertido para radianos\n",
        "\n",
        "    def rigidezAxial(self):\n",
        "      # rigidez axial da barra (EI/L)\n",
        "      return (self.E * self.A) / self.L\n",
        "\n",
        "    def rigidezFlexional(self):\n",
        "        # rigidez flexional da barra (EI/L³)\n",
        "        return (self.E * self.I) / (self.L ** 3)\n",
        "\n",
        "    def matrizRigidezLocal(self):\n",
        "      # matriz de rigidez local (tabelada)\n",
        "      L = self.L\n",
        "      E = self.E\n",
        "      A = self.A\n",
        "      I = self.I\n",
        "      k = [\n",
        "          [ E*A/L,  0,          0,         -E*A/L,  0,         0       ],\n",
        "          [ 0,      12*E*I/L**3, 6*E*I/L**2, 0,     -12*E*I/L**3, 6*E*I/L**2 ],\n",
        "          [ 0,      6*E*I/L**2,  4*E*I/L,   0,     -6*E*I/L**2,  2*E*I/L   ],\n",
        "          [-E*A/L,  0,          0,          E*A/L,  0,         0       ],\n",
        "          [ 0,     -12*E*I/L**3, -6*E*I/L**2, 0,      12*E*I/L**3, -6*E*I/L**2],\n",
        "          [ 0,      6*E*I/L**2,  2*E*I/L,   0,     -6*E*I/L**2,  4*E*I/L   ]\n",
        "      ]\n",
        "      return k\n",
        "    def matrizRotacao(self):\n",
        "      # matriz de rotação local\n",
        "      cx = np.cos(self.angulo)\n",
        "      cy = np.sin(self.angulo)\n",
        "\n",
        "      R = np.array([\n",
        "          [ cx,  cy,  0,  0,  0,  0],\n",
        "          [-cy,  cx,  0,  0,  0,  0],\n",
        "          [ 0,  0,  1,  0,  0,  0],\n",
        "          [ 0,  0,  0,  cx,  cy,  0],\n",
        "          [ 0,  0,  0, -cy,  cx,  0],\n",
        "          [ 0,  0,  0,  0,  0,  1]\n",
        "      ])\n",
        "\n",
        "      return R"
      ],
      "metadata": {
        "id": "OgGI_133LSVL"
      },
      "execution_count": 48,
      "outputs": []
    },
    {
      "cell_type": "code",
      "source": [
        "class BarraTrelicaPlana:\n",
        "    def __init__(self, id, coordNoInic, coordNoFim, A, E):\n",
        "      self.id = id\n",
        "      self.coordNoInic = np.array(coordNoInic)\n",
        "      self.coordNoFim = np.array(coordNoFim)\n",
        "      self.A = A\n",
        "      self.E = E\n",
        "      self.L = self.calcular_L()\n",
        "      self.angulo = self.calcular_angulo()\n",
        "\n",
        "    def calcularL(self):\n",
        "      return np.linalg.norm(self.coordNoFim - self.coordNoInic) # distância euclidiana\n",
        "\n",
        "    def calcularAngulo(self):\n",
        "      distX = self.coordNoFim[0] - self.coordNoInic[0]\n",
        "      distY = self.coordNoFim[1] - self.coordNoInic[1]\n",
        "      return np.arctan2(distY, distX) # ângulo em rad\n",
        "\n",
        "    def matrizRotacao(self):\n",
        "      cx = np.cos(self.angulo)\n",
        "      cy = np.sin(self.angulo)\n",
        "\n",
        "      R = np.array([\n",
        "          [ cx,  cy,  0,  0],\n",
        "          [-cy,  cx,  0,  0],\n",
        "          [ 0,  0,  cx,  cy],\n",
        "          [ 0,  0, -cy,  cx]\n",
        "      ])\n",
        "      return R\n",
        "\n",
        "    def matrizRigidezLocal(self):\n",
        "      EA_L = (self.E * self.A) / self.L\n",
        "\n",
        "      kLocal = np.array([\n",
        "          [ EA_L,  0, -EA_L,  0],\n",
        "          [ 0,  0,  0,  0],\n",
        "          [-EA_L,  0,  EA_L,  0],\n",
        "          [ 0,  0,  0,  0]\n",
        "      ]) * EA_L\n",
        "\n",
        "      return kLocal\n"
      ],
      "metadata": {
        "id": "3ahVpzQrROj8"
      },
      "execution_count": 49,
      "outputs": []
    },
    {
      "cell_type": "code",
      "source": [
        "class BarraVigaPlana:\n",
        "    def __init__(self, id, coordNoInic, coordNoFim, A, I, E):\n",
        "      self.id = id\n",
        "      self.coordNoInic = np.array(coordNoInic)\n",
        "      self.coordNoFim = np.array(coordNoFim)\n",
        "      self.A = A\n",
        "      self.I = I\n",
        "      self.E = E\n",
        "      self.L = self.calcularComprimento()\n",
        "      self.angulo = self.calcularAngulo()\n",
        "\n",
        "    def calcularComprimento(self):\n",
        "      return np.linalg.norm(self.coordNoFim - self.coordNoInic)\n",
        "\n",
        "    def calcularAngulo(self):\n",
        "      distX = self.coordNoFim[0] - self.coordNoInic[0]\n",
        "      distY = self.coordNoFim[1] - self.coordNoInic[1]\n",
        "      return np.arctan2(distY, distX)\n",
        "\n",
        "    def matrizRotacao(self):\n",
        "      cx = np.cos(self.angulo)\n",
        "      cy = np.sin(self.angulo)\n",
        "\n",
        "      R = np.array([\n",
        "          [ cx,  cy,  0,  0],\n",
        "          [-cy,  cx,  0,  0],\n",
        "          [ 0,  0,   cx,  cy],\n",
        "          [ 0,  0,  -cy,  cx],\n",
        "      ])\n",
        "      return R\n",
        "\n",
        "    def matrizRigidezLocal(self):\n",
        "      L = self.L\n",
        "      E = self.E\n",
        "      I = self.I\n",
        "\n",
        "      kLocal = np.array([\n",
        "          [ 12*E*I/L**3,  6*E*I/L**2, -12*E*I/L**3,  6*E*I/L**2],\n",
        "          [ 6*E*I/L**2,   4*E*I/L,    -6*E*I/L**2,   2*E*I/L  ],\n",
        "          [-12*E*I/L**3, -6*E*I/L**2,  12*E*I/L**3, -6*E*I/L**2],\n",
        "          [ 6*E*I/L**2,   2*E*I/L,    -6*E*I/L**2,   4*E*I/L  ]\n",
        "      ])\n",
        "\n",
        "      return kLocal\n",
        "\n",
        "    def imprimirBarra(self):\n",
        "        print(f\"ID: {self.id}, NoI: {self.coordNoInic}, NoF: {self.coordNoFim}, L: {self.L:.2f}, Ângulo: {self.angulo:.2f}, A: {self.A:.2f}, I: {self.I:.2e}, E: {self.E:.2e}\")"
      ],
      "metadata": {
        "id": "2UHtFe7CfAkh"
      },
      "execution_count": 50,
      "outputs": []
    },
    {
      "cell_type": "markdown",
      "source": [
        "## Entrada de dados"
      ],
      "metadata": {
        "id": "AuN8QgzOfM-4"
      }
    },
    {
      "cell_type": "code",
      "source": [
        "import json\n",
        "\n",
        "def read_data_json(filename):\n",
        "    # Abre e carrega o arquivo JSON\n",
        "    with open(filename, 'r', encoding='utf-8') as f:\n",
        "        data = json.load(f)\n",
        "\n",
        "    # Extração dos parâmetros principais, garantindo que existam no JSON\n",
        "    try:\n",
        "        nno        = int(data[\"nno\"])\n",
        "        nel        = int(data[\"nel\"])\n",
        "        nnoel      = int(data[\"nnoel\"])\n",
        "        ndofn      = int(data[\"ndofn\"])\n",
        "        ntm        = int(data[\"ntm\"])\n",
        "        nts        = int(data[\"nts\"])\n",
        "        typestruct = int(data[\"typestruct\"])\n",
        "    except KeyError as e:\n",
        "        raise Exception(f\"Atenção: a chave {e} não foi encontrada no JSON\")\n",
        "\n",
        "    # Validação da lista de coordenadas (no JSON a chave é 'coord')\n",
        "    coord_list = data.get(\"coord\")\n",
        "    if coord_list is None:\n",
        "        raise Exception(\"Atenção: chave 'coord' não encontrada no JSON\")\n",
        "    if len(coord_list) != nno:\n",
        "        raise Exception(\"Atenção: número de nós em 'coord' diferente de nno.\")\n",
        "\n",
        "    # Validação da conectividade dos elementos\n",
        "    ndn_list = data.get(\"ndn\")\n",
        "    if ndn_list is None:\n",
        "        raise Exception(\"Atenção: chave 'ndn' não encontrada no JSON\")\n",
        "    if len(ndn_list) != nel:\n",
        "        raise Exception(\"Atenção: número de elementos em 'ndn' diferente de nel.\")\n",
        "\n",
        "    # Validação dos tipos de material\n",
        "    intm_list = data.get(\"intm\")\n",
        "    if intm_list is None:\n",
        "        raise Exception(\"Atenção: chave 'intm' não encontrada no JSON\")\n",
        "    if len(intm_list) != nel:\n",
        "        raise Exception(\"Atenção: lista 'intm' com tamanho diferente de nel.\")\n",
        "\n",
        "    # Validação dos tipos de seção\n",
        "    ints_list = data.get(\"ints\")\n",
        "    if ints_list is None:\n",
        "        raise Exception(\"Atenção: chave 'ints' não encontrada no JSON\")\n",
        "    if len(ints_list) != nel:\n",
        "        raise Exception(\"Atenção: lista 'ints' com tamanho diferente de nel.\")\n",
        "\n",
        "    # Validação das propriedades do material\n",
        "    E_list = data.get(\"E\")\n",
        "    if E_list is None:\n",
        "        raise Exception(\"Atenção: chave 'E' não encontrada no JSON\")\n",
        "    if len(E_list) != ntm:\n",
        "        raise Exception(\"Atenção: número de valores de E diferente de ntm.\")\n",
        "\n",
        "    nu_list = data.get(\"nu\")\n",
        "    if nu_list is None:\n",
        "        raise Exception(\"Atenção: chave 'nu' não encontrada no JSON\")\n",
        "    if len(nu_list) != ntm:\n",
        "        raise Exception(\"Atenção: número de valores de nu diferente de ntm.\")\n",
        "\n",
        "    rho_list = data.get(\"rho\")\n",
        "    if rho_list is None:\n",
        "        raise Exception(\"Atenção: chave 'rho' não encontrada no JSON\")\n",
        "    if len(rho_list) != ntm:\n",
        "        raise Exception(\"Atenção: número de valores de rho diferente de ntm.\")\n",
        "\n",
        "    # Validação das propriedades da seção\n",
        "    A_list = data.get(\"A\")\n",
        "    if A_list is None:\n",
        "        raise Exception(\"Atenção: chave 'A' não encontrada no JSON\")\n",
        "    if len(A_list) != nts:\n",
        "        raise Exception(\"Atenção: número de valores de A diferente de nts.\")\n",
        "\n",
        "    # A inércia pode estar como 'Iz' ou 'I'\n",
        "    if \"Iz\" in data:\n",
        "        Iz_list = data.get(\"Iz\")\n",
        "    elif \"I\" in data:\n",
        "        Iz_list = data.get(\"I\")\n",
        "    else:\n",
        "        raise Exception(\"Atenção: chave 'Iz' ou 'I' não encontrada no JSON\")\n",
        "    if len(Iz_list) != nts:\n",
        "        raise Exception(\"Atenção: número de valores de Iz/I diferente de nts.\")\n",
        "\n",
        "    sf_list = data.get(\"sf\")\n",
        "    if sf_list is None:\n",
        "        raise Exception(\"Atenção: chave 'sf' não encontrada no JSON\")\n",
        "    if len(sf_list) != nts:\n",
        "        raise Exception(\"Atenção: número de valores de sf diferente de nts.\")\n",
        "\n",
        "    # Cálculo do módulo de elasticidade transversal G para cada material\n",
        "    G_list = []\n",
        "    for E_val, nu_val in zip(E_list, nu_list):\n",
        "        G_list.append(E_val / (2 * (1 + nu_val)))\n",
        "\n",
        "    # Organiza os dados em um dicionário, padronizando a chave de coordenadas para 'coor'\n",
        "    new_data = {\n",
        "        'nno': nno,\n",
        "        'nel': nel,\n",
        "        'nnoel': nnoel,\n",
        "        'ndofn': ndofn,\n",
        "        'ntm': ntm,\n",
        "        'nts': nts,\n",
        "        'typestruct': typestruct,\n",
        "        'coor': coord_list,  # renomeia 'coord' para 'coor'\n",
        "        'ndn': ndn_list,\n",
        "        'intm': intm_list,\n",
        "        'ints': ints_list,\n",
        "        'E': E_list,\n",
        "        'nu': nu_list,\n",
        "        'rho': rho_list,\n",
        "        'A': A_list,\n",
        "        'Iz': Iz_list,\n",
        "        'sf': sf_list,\n",
        "        'G': G_list\n",
        "    }\n",
        "\n",
        "    return new_data\n",
        "\n",
        "filename = 'dados_modelo.json'\n",
        "data = read_data_json(filename)\n",
        "print(data)\n"
      ],
      "metadata": {
        "colab": {
          "base_uri": "https://localhost:8080/"
        },
        "id": "saiCueYrG_dt",
        "outputId": "0c123a79-fb72-433d-b54b-a20f850378fe"
      },
      "execution_count": 51,
      "outputs": [
        {
          "output_type": "stream",
          "name": "stdout",
          "text": [
            "{'nno': 5, 'nel': 4, 'nnoel': 2, 'ndofn': 2, 'ntm': 1, 'nts': 1, 'typestruct': 1, 'coor': [[0, 0], [8, 0], [14, 0], [20, 0], [23, 0]], 'ndn': [[1, 2], [2, 3], [3, 4], [4, 5]], 'intm': [1, 1, 1, 1], 'ints': [1, 1, 1, 1], 'E': [1670000], 'nu': [0.3], 'rho': [1], 'A': [0.18], 'Iz': [0.0054], 'sf': [1], 'G': [642307.6923076923]}\n"
          ]
        }
      ]
    },
    {
      "cell_type": "markdown",
      "source": [
        "## Instanciando as barras"
      ],
      "metadata": {
        "id": "EIvAI4Tz53lE"
      }
    },
    {
      "cell_type": "code",
      "source": [
        "barras = []\n",
        "for i in range(data['nel']):\n",
        "  #Pegando a area da barra\n",
        "  indiceArea = data['ints'][i]\n",
        "  area = data['A'][indiceArea - 1]\n",
        "\n",
        "  # Pegando o Iz\n",
        "  indiceI = data['intm'][i]\n",
        "  Iz = data['Iz'][indiceI - 1]\n",
        "\n",
        "  # Pegando o E\n",
        "  indiceE = data['intm'][i]\n",
        "  E = data['E'][indiceE - 1]\n",
        "\n",
        "  # Pegando as coordenadas dos nos\n",
        "  indiceNoIncial, indiceNoFinal = data['ndn'][i]\n",
        "  noInicial = data['coor'][indiceNoIncial - 1]\n",
        "  noFinal = data['coor'][indiceNoFinal - 1]\n",
        "\n",
        "  if(data['typestruct'] == 1):\n",
        "    # Viga\n",
        "    # print(E)\n",
        "    barras.append(BarraVigaPlana(i, noInicial, noFinal, area, Iz, E))\n",
        "    barras[i].imprimirBarra()\n",
        "  elif(data['typestruct'] == 2):\n",
        "    # Treliça\n",
        "    # TODO: Implement this\n",
        "    raise Exception(\"NOT IMPLEMENTED\")\n",
        "  elif(data['typestruct'] == 3):\n",
        "    # Portico\n",
        "    # TODO: Implement this\n",
        "    raise Exception(\"NOT IMPLEMENTED\")\n",
        "  else:\n",
        "    raise Exception(\"Tipo desconhecido\")"
      ],
      "metadata": {
        "colab": {
          "base_uri": "https://localhost:8080/"
        },
        "id": "EXICcXB25jSz",
        "outputId": "ee8f2edb-8725-4a07-fc62-1e587ee31f1f"
      },
      "execution_count": 53,
      "outputs": [
        {
          "output_type": "stream",
          "name": "stdout",
          "text": [
            "ID: 0, NoI: [0 0], NoF: [8 0], L: 8.00, Ângulo: 0.00, A: 0.18, I: 5.40e-03, E: 1.67e+06\n",
            "ID: 1, NoI: [8 0], NoF: [14  0], L: 6.00, Ângulo: 0.00, A: 0.18, I: 5.40e-03, E: 1.67e+06\n",
            "ID: 2, NoI: [14  0], NoF: [20  0], L: 6.00, Ângulo: 0.00, A: 0.18, I: 5.40e-03, E: 1.67e+06\n",
            "ID: 3, NoI: [20  0], NoF: [23  0], L: 3.00, Ângulo: 0.00, A: 0.18, I: 5.40e-03, E: 1.67e+06\n"
          ]
        }
      ]
    },
    {
      "cell_type": "markdown",
      "source": [
        "## Calculo da matriz global"
      ],
      "metadata": {
        "id": "hyCIVclYBwSK"
      }
    },
    {
      "cell_type": "markdown",
      "source": [
        "### Rotina para montar o vetor LM"
      ],
      "metadata": {
        "id": "6nBJA4u_UzXU"
      }
    },
    {
      "cell_type": "code",
      "source": [
        "def calculo_vetor_LM(numero_elemento, nnoel, ndofn):\n",
        "  # Calculando o número de dofs por elemento\n",
        "    edof = nnoel * ndofn\n",
        "    start = (numero_elemento - 1) * (nnoel - 1) * ndofn\n",
        "\n",
        "    # Criando o vetor LM\n",
        "    vetor_LM = np.arange(start + 1, start + edof + 1)\n",
        "    return vetor_LM"
      ],
      "metadata": {
        "id": "Xz9jhODg84TD"
      },
      "execution_count": 54,
      "outputs": []
    },
    {
      "cell_type": "markdown",
      "source": [
        "### Rotina para colocar a matriz de rigidez local na global"
      ],
      "metadata": {
        "id": "WAOFbJdpUvX8"
      }
    },
    {
      "cell_type": "code",
      "source": [
        "def assembly(kk, k, vetor_LM):\n",
        "    # Número de graus de liberdade por elemento\n",
        "    edof = len(vetor_LM)\n",
        "\n",
        "    # Montagem da matriz do sistema\n",
        "    for i in range(edof):\n",
        "        ii = vetor_LM[i] - 1\n",
        "        for j in range(edof):\n",
        "            jj = vetor_LM[j] - 1\n",
        "            kk[ii, jj] += k[i, j]  # Adiciona o valor de k na matriz do sistema\n",
        "\n",
        "    return kk"
      ],
      "metadata": {
        "id": "1nSQKOBT-eDY"
      },
      "execution_count": 55,
      "outputs": []
    },
    {
      "cell_type": "markdown",
      "source": [
        "### Montagem da matriz global"
      ],
      "metadata": {
        "id": "PQEtG35tUs9W"
      }
    },
    {
      "cell_type": "code",
      "source": [
        "matriz_global = np.zeros((data['nno']* data['ndofn'], data['nno']* data['ndofn']))\n",
        "\n",
        "for (i, barra) in enumerate(barras):\n",
        "  matrizRotacao = np.array(barra.matrizRotacao())\n",
        "  matrizRigidezRotacionada = matrizRotacao.T @ barra.matrizRigidezLocal() @ matrizRotacao\n",
        "  vetor_lm = calculo_vetor_LM(barra.id+1, data['nnoel'], data['ndofn'])\n",
        "  matriz_global = assembly(matriz_global, matrizRigidezRotacionada, vetor_lm)\n",
        "\n",
        "# print(np.array2string(matriz_global, precision=2, separator=', ', formatter={'float_kind': lambda x: f\"{x:.2f}\"}, max_line_width=100))"
      ],
      "metadata": {
        "id": "HCux86EuB5yB"
      },
      "execution_count": 56,
      "outputs": []
    },
    {
      "cell_type": "markdown",
      "source": [
        "## Finalizar a entrada de dados"
      ],
      "metadata": {
        "id": "Bp9fizNrU3RX"
      }
    },
    {
      "cell_type": "code",
      "source": [
        "import json\n",
        "\n",
        "def ler_cargas_struct(filename, num_nodes, num_elements, ndofn):\n",
        "    \"\"\"\n",
        "    Lê e valida os dados de carregamento de um arquivo JSON.\n",
        "\n",
        "    :param filename: Nome do arquivo JSON com as informações de cargas.\n",
        "    :param num_nodes: Número total de nós no modelo (para checar limites).\n",
        "    :param num_elements: Número total de elementos no modelo (para checar limites).\n",
        "    :param ndofn: Graus de liberdade por nó (para checar o formato de ccno).\n",
        "    :return: Dicionário com os dados de carregamento (se válido).\n",
        "    :raises ValueError: Caso alguma inconsistência seja encontrada.\n",
        "    \"\"\"\n",
        "\n",
        "    # 1. Leitura do arquivo JSON\n",
        "    with open(filename, 'r', encoding='utf-8') as f:\n",
        "        data = json.load(f)\n",
        "\n",
        "    # 2. Extração dos dados principais\n",
        "    nnc   = data[\"nnc\"]       # Número de nós com cargas concentradas\n",
        "    nele  = data[\"nele\"]      # Número de elementos carregados\n",
        "    nnoc  = data[\"nnoc\"]      # Lista com os índices dos nós carregados\n",
        "    ccno  = data[\"ccno\"]      # Lista com as cargas concentradas [nnc x ndofn]\n",
        "    ndmbc = data[\"ndmbc\"]     # Lista com os índices dos elementos carregados\n",
        "    ityl0 = data[\"itylo\"]     # Lista com os dados dos tipos de carga\n",
        "    nccdesl = data[\"nccdesl\"] # Número de nós com apoio\n",
        "    nnr = data['nnr']         # Lista com os indíces dos nós com apoio\n",
        "    itydisp = data['itydisp'] # Lista com qual grau de liberdade está restrito\n",
        "\n",
        "    # 3. Validações básicas de tamanho\n",
        "    # 3.1. nnc vs nnoc\n",
        "    if len(nnoc) != nnc:\n",
        "        raise ValueError(\n",
        "            f\"Inconsistência: nnc={nnc}, mas len(nnoc)={len(nnoc)}.\"\n",
        "        )\n",
        "\n",
        "    # 3.2. nnc vs ccno\n",
        "    if len(ccno) != nnc:\n",
        "        raise ValueError(\n",
        "            f\"Inconsistência: nnc={nnc}, mas len(ccno)={len(ccno)}.\"\n",
        "        )\n",
        "    # Checando se cada linha de ccno tem ndofn colunas\n",
        "    for i, linha_ccno in enumerate(ccno, start=1):\n",
        "        if len(linha_ccno) != ndofn:\n",
        "            raise ValueError(\n",
        "                f\"Em ccno, a linha {i} deveria ter {ndofn} valores, mas tem {len(linha_ccno)}.\"\n",
        "            )\n",
        "\n",
        "    # 3.3. nele vs ndmbc\n",
        "    if len(ndmbc) != nele:\n",
        "        raise ValueError(\n",
        "            f\"Inconsistência: nele={nele}, mas len(ndmbc)={len(ndmbc)}.\"\n",
        "        )\n",
        "\n",
        "    # 3.4. nele vs ityl0\n",
        "    if len(ityl0) != nele:\n",
        "        raise ValueError(\n",
        "            f\"Inconsistência: nele={nele}, mas len(itylo)={len(ityl0)}.\"\n",
        "        )\n",
        "\n",
        "    if len(nnr) != nccdesl:\n",
        "      raise ValueError(\n",
        "            f\"Inconsistência: nccdesl={nccdesl}, mas len(nnr)={len(nnr)}.\"\n",
        "        )\n",
        "\n",
        "    if len(itydisp) != nccdesl:\n",
        "      raise ValueError(\n",
        "            f\"Inconsistência: nccdesl={nccdesl}, mas len(itydisp)={len(itydisp)}.\"\n",
        "        )\n",
        "\n",
        "    # 4. Validando intervalos de nós e elementos\n",
        "    # 4.1. Índices de nós carregados\n",
        "    for node_index in nnoc:\n",
        "        if not (1 <= node_index <= num_nodes):\n",
        "            raise ValueError(\n",
        "                f\"Nó carregado {node_index} fora do intervalo [1, {num_nodes}].\"\n",
        "            )\n",
        "\n",
        "    # 4.2. Índices de elementos carregados\n",
        "    for elem_index in ndmbc:\n",
        "        if not (1 <= elem_index <= num_elements):\n",
        "            raise ValueError(\n",
        "                f\"Elemento carregado {elem_index} fora do intervalo [1, {num_elements}].\"\n",
        "            )\n",
        "\n",
        "    # 4.3. Índices de nós apoiados\n",
        "    for node_index in nnr:\n",
        "        if not (1 <= node_index <= num_nodes):\n",
        "            raise ValueError(\n",
        "                f\"Nó apoiado {node_index} fora do intervalo [1, {num_nodes}].\"\n",
        "            )\n",
        "\n",
        "    # 4.4. Tamanaho de graus de liberdade dós nos apoiados\n",
        "    for (i, no_index) in enumerate(itydisp):\n",
        "      if len(no_index) != ndofn:\n",
        "        raise ValueError(\n",
        "              f\"Inconsistência: ndofn={ndofn}, mas len(itydisp[{i}])={len(no_index)}.\"\n",
        "          )\n",
        "\n",
        "    # 5. Validação dos tipos de carga\n",
        "    # Definição dos campos obrigatórios para cada tipo\n",
        "    # (Ajuste conforme suas necessidades reais de validação)\n",
        "    tipos_carga = {\n",
        "        1: [\"type\", \"mag\", \"pos\"],                # Força vertical no vão\n",
        "        2: [\"type\", \"mag\", \"pos\"],                # Momento no vão\n",
        "        3: [\"type\", \"mag\", \"pos\"],                # Força horizontal no vão\n",
        "        4: [\"type\", \"mag\", \"pos\"],                # Torsor no vão\n",
        "        5: [\"type\", \"mag\", \"distanciaNo\"],        # Forças de mesma magnitude\n",
        "        6: [\"type\", \"mag\"],                       # Carga distribuída (todo vão)\n",
        "        7: [\"type\", \"mag\", \"posInicial\", \"posFinal\"],  # Carga distribuída parcial\n",
        "        8: [\"type\", \"altura\", \"ladoAltura\"]       # Carga triangular\n",
        "    }\n",
        "\n",
        "    # 5.1. Checando cada item de ityl0\n",
        "    for i, item in enumerate(ityl0, start=1):\n",
        "        load_type = item.get(\"type\")\n",
        "        if load_type is None:\n",
        "            raise ValueError(f\"Não foi especificado 'type' para a carga {i}.\")\n",
        "\n",
        "        if load_type not in tipos_carga:\n",
        "            raise ValueError(\n",
        "                f\"Tipo de carga inválido: {load_type}. Deve ser um inteiro de 1 a 8.\"\n",
        "            )\n",
        "\n",
        "        # Checa se os campos obrigatórios existem\n",
        "        campos_necessarios = tipos_carga[load_type]\n",
        "        for campo in campos_necessarios:\n",
        "            if campo not in item:\n",
        "                raise ValueError(\n",
        "                    f\"Para 'type'={load_type}, o campo '{campo}' é obrigatório. \"\n",
        "                    f\"Carga {i} está incompleta.\"\n",
        "                )\n",
        "\n",
        "        # Exemplo extra de validação de formato, se desejado:\n",
        "        # (Por exemplo, se \"pos\" deve ser uma lista de 2 valores)\n",
        "        if \"pos\" in campos_necessarios:\n",
        "            pos = item[\"pos\"]\n",
        "            if not (isinstance(pos, list) and len(pos) == 2):\n",
        "                raise ValueError(\n",
        "                    f\"Para 'type'={load_type}, 'pos' deve ser uma lista [x, y].\"\n",
        "                )\n",
        "        if \"posInicial\" in campos_necessarios:\n",
        "            if not (isinstance(item[\"posInicial\"], list) and len(item[\"posInicial\"]) == 2):\n",
        "                raise ValueError(\n",
        "                    f\"Para 'type'={load_type}, 'posInicial' deve ser uma lista [x, y].\"\n",
        "                )\n",
        "        if \"posFinal\" in campos_necessarios:\n",
        "            if not (isinstance(item[\"posFinal\"], list) and len(item[\"posFinal\"]) == 2):\n",
        "                raise ValueError(\n",
        "                    f\"Para 'type'={load_type}, 'posFinal' deve ser uma lista [x, y].\"\n",
        "                )\n",
        "\n",
        "    return data\n",
        "\n",
        "forcas = ler_cargas_struct(\"cargas.txt\", data['nno'], data['nel'], data['ndofn'])\n",
        "print(forcas)"
      ],
      "metadata": {
        "id": "vxJbLanV6n7L",
        "colab": {
          "base_uri": "https://localhost:8080/"
        },
        "outputId": "f3d2f2f6-f224-4362-91e1-b0fc92810295"
      },
      "execution_count": 57,
      "outputs": [
        {
          "output_type": "stream",
          "name": "stdout",
          "text": [
            "{'nnc': 1, 'nele': 3, 'nnoc': [5], 'ccno': [[-10, 0]], 'ndmbc': [1, 2, 3], 'itylo': [{'type': 1, 'mag': -8, 'pos': [4, 0]}, {'type': 6, 'mag': -10}, {'type': 6, 'mag': -10}], 'nccdesl': 4, 'nnr': [1, 2, 3, 4], 'itydisp': [[1, 1], [1, 0], [1, 0], [1, 0]]}\n"
          ]
        }
      ]
    },
    {
      "cell_type": "code",
      "source": [
        "def distancia_entre_pontos(ponto1, ponto2):\n",
        "    return math.sqrt((ponto2[0] - ponto1[0]) ** 2 + (ponto2[1] - ponto1[1]) ** 2)"
      ],
      "metadata": {
        "id": "rxTgHAk-XDIh"
      },
      "execution_count": 58,
      "outputs": []
    },
    {
      "cell_type": "code",
      "source": [
        "# agora que temos as forças precisamos montar o vetor de forças para o sistema utilizando os dados de entrada\n",
        "F = np.zeros(data['nno']* data['ndofn'])\n",
        "\n",
        "#Forças que atuam nos nós\n",
        "\n",
        "for (i, forca) in enumerate(forcas['ccno']):\n",
        "  indiceForca = forcas['nnoc'][i]\n",
        "\n",
        "  for (j, valor_no_grau_de_lib) in enumerate(forca):\n",
        "    indiceGrauDeLiberdade = (indiceForca - 1) * data['ndofn'] + j\n",
        "    F[indiceGrauDeLiberdade] = valor_no_grau_de_lib\n",
        "\n",
        "\n",
        "# Forças que atuam no elemento\n",
        "for (i, forca) in enumerate(forcas['itylo']):\n",
        "  if data['typestruct'] == 2:\n",
        "    raise Exception(\"Treliças não tem carregamentos ao longo da barra, apenas nos nós\")\n",
        "\n",
        "  tipo_carga = forca['type']\n",
        "  elementoId = forcas['ndmbc'][i]\n",
        "  barra = barras[elementoId - 1]\n",
        "  L = barra.L           # comprimento barra\n",
        "  noInicial = barra.coordNoInic\n",
        "  ids_nos_da_barra = data['ndn'][elementoId-1]\n",
        "\n",
        "  # força equivalente local\n",
        "  feq = np.zeros(data['nnoel'] * data['ndofn'])\n",
        "\n",
        "\n",
        "  if tipo_carga == 1:\n",
        "        P = forca[\"mag\"]       # Magnitude da força\n",
        "        posicao = forca[\"pos\"]    # posição\n",
        "\n",
        "        #encontrando o a\n",
        "        a = distancia_entre_pontos(noInicial, posicao)\n",
        "        b = L - a\n",
        "\n",
        "        # Usando a tabela\n",
        "        VA = P * b**2 / L**3 * (3*a + b)\n",
        "        VB = P * a**2 /L**3 * (a + 3*b)\n",
        "        # Momentos (verifique com a tabela de engastamento perfeito!)\n",
        "        MA = (P * a* b**2)/L**2\n",
        "        MB = -(P*a**2*b)/L**2\n",
        "\n",
        "        if(data['typestruct'] == 1):\n",
        "          feq[0] = VA\n",
        "          feq[1] = MA\n",
        "          feq[2] = VB\n",
        "          feq[3] = MB\n",
        "        else:\n",
        "          feq[1] = VA\n",
        "          feq[2] = MA\n",
        "          feq[4] = VB\n",
        "          feq[5] = MB\n",
        "  elif tipo_carga == 2:\n",
        "      M = forca[\"mag\"]\n",
        "      posicao = forca[\"pos\"]    # posição\n",
        "\n",
        "      #encontrando o a\n",
        "      a = distancia_entre_pontos(noInicial, posicao)\n",
        "      b = L - a\n",
        "      MA = M*b/L**2 * (2*a - b)\n",
        "      MB = M*a/L**2 * (2*b - a)\n",
        "      VA = (6*M*a*b) / L**3\n",
        "      VB = - VA\n",
        "      if(data['typestruct'] == 1):\n",
        "          feq[0] = VA\n",
        "          feq[1] = MA\n",
        "          feq[2] = VB\n",
        "          feq[3] = MB\n",
        "      else:\n",
        "        feq[1] = VA\n",
        "        feq[2] = MA\n",
        "        feq[4] = VB\n",
        "        feq[5] = MB\n",
        "\n",
        "  elif tipo_carga == 3:\n",
        "      P = forca[\"mag\"]\n",
        "      posicao = forca[\"pos\"]    # posição\n",
        "\n",
        "      #encontrando o a\n",
        "      a = distancia_entre_pontos(noInicial, posicao)\n",
        "      b = L - a\n",
        "      VA = P*b/L\n",
        "      VB = P*a/L\n",
        "      if(data['typestruct'] == 1):\n",
        "          feq[0] = VA\n",
        "          feq[2] = VB\n",
        "      else:\n",
        "        feq[1] = VA\n",
        "        feq[4] = VB\n",
        "\n",
        "  elif tipo_carga == 4:\n",
        "      raise Exception(\"Não tratamos problema com torsor\")\n",
        "\n",
        "  elif tipo_carga == 5:\n",
        "      P = forca[\"mag\"]\n",
        "      a = forca[\"distanciaNo\"] #distancia a\n",
        "\n",
        "      VA = VB = P\n",
        "      MA = P*a/L*(L-a)\n",
        "      MB = - MA\n",
        "      if(data['typestruct'] == 1):\n",
        "          feq[0] = VA\n",
        "          feq[1] = MA\n",
        "          feq[2] = VB\n",
        "          feq[3] = MB\n",
        "      else:\n",
        "        feq[1] = VA\n",
        "        feq[2] = MA\n",
        "        feq[4] = VB\n",
        "        feq[5] = MB\n",
        "\n",
        "  elif tipo_carga == 6:\n",
        "      # Carga distribuída q ao longo de todo o vão\n",
        "      q = forca[\"mag\"]\n",
        "      VA = q*L/2.0\n",
        "      MA = q*(L**2)/12.0\n",
        "      VB = q*L/2.0\n",
        "      MB = - q*(L**2)/12.0\n",
        "\n",
        "      if(data['typestruct'] == 1):\n",
        "          feq[0] = VA\n",
        "          feq[1] = MA\n",
        "          feq[2] = VB\n",
        "          feq[3] = MB\n",
        "      else:\n",
        "        feq[0] = 0\n",
        "        feq[1] = VA\n",
        "        feq[2] = MA\n",
        "        feq[3] = 0\n",
        "        feq[4] = VB\n",
        "        feq[5] = MB\n",
        "\n",
        "  elif tipo_carga == 7:\n",
        "      q = forca[\"mag\"]\n",
        "      posInicial = forca[\"posInicial\"] #posicaoInicial\n",
        "      posFinal = forca[\"posFinal\"] #posicaoInicial\n",
        "      a = distancia_entre_pontos(posInicial, posFinal)\n",
        "\n",
        "      MA = q*a**2/(12*L**2) * (6*L**2 - 8*a*L + 3*a**2)\n",
        "      MB = - q * a**3/(12* L**2) * (4*L - 3*a)\n",
        "      VA = q*a/(2*L**3) * (2* L**3 - 2*a**2*L + a**3)\n",
        "      VB = q*a**3/(2*L**3) * (2*L - a)\n",
        "\n",
        "      ## caso o carregamento comece no meio da barra e vá até o final\n",
        "      if(posInicial != noInicial):\n",
        "        aux = MA\n",
        "        MA = MB\n",
        "        MB = aux\n",
        "        aux = VA\n",
        "        VA = VB\n",
        "        VB = aux\n",
        "\n",
        "      if(data['typestruct'] == 1):\n",
        "          feq[0] = VA\n",
        "          feq[1] = MA\n",
        "          feq[2] = VB\n",
        "          feq[3] = MB\n",
        "      else:\n",
        "        feq[1] = VA\n",
        "        feq[2] = MA\n",
        "        feq[4] = VB\n",
        "        feq[5] = MB\n",
        "\n",
        "  elif tipo_carga == 8:\n",
        "      q = forca[\"altura\"]\n",
        "      ladoAltura = forca['ladoAltura']\n",
        "      a = distancia_entre_pontos(posInicial, posFinal)\n",
        "\n",
        "      MA = q*L**2/30\n",
        "      MB = - q*L**2/20\n",
        "      VA = 3*q*L/20\n",
        "      VB = 7*q*L/20\n",
        "\n",
        "      ## caso o maior lado do triangulo esteja a esquerda\n",
        "      if(ladoAltura == 0):\n",
        "        aux = MA\n",
        "        MA = MB\n",
        "        MB = aux\n",
        "        aux = VA\n",
        "        VA = VB\n",
        "        VB = aux\n",
        "\n",
        "      if(data['typestruct'] == 1):\n",
        "          feq[0] = VA\n",
        "          feq[1] = MA\n",
        "          feq[2] = VB\n",
        "          feq[3] = MB\n",
        "      else:\n",
        "        feq[1] = VA\n",
        "        feq[2] = MA\n",
        "        feq[4] = VB\n",
        "        feq[5] = MB\n",
        "\n",
        "  else:\n",
        "      raise Exception(\n",
        "          f\"Tipo de carga {tipo_carga} ainda não implementado na função.\"\n",
        "      )\n",
        "\n",
        "  # se for inputado os graus deliberdade já no eixo global não precisa desse passo\n",
        "  feq = barra.matrizRotacao() @ feq\n",
        "\n",
        "  for ii in range(data['nnoel']):\n",
        "    GDLInicialGlobalDoNo = (ids_nos_da_barra[ii] - 1) * data['ndofn']\n",
        "    for jj in range(data['ndofn']):\n",
        "      F[GDLInicialGlobalDoNo + jj] += feq[jj + (ii * data['ndofn'])]"
      ],
      "metadata": {
        "id": "bZz7RkqF77HH"
      },
      "execution_count": 59,
      "outputs": []
    },
    {
      "cell_type": "markdown",
      "source": [
        "## Tratando os apoios"
      ],
      "metadata": {
        "id": "me4M_ieSOFtm"
      }
    },
    {
      "cell_type": "code",
      "source": [
        "apoios = np.zeros(forcas['nccdesl'])\n",
        "restricoes = []\n",
        "\n",
        "for (i, graus_de_liberdade) in enumerate(forcas['itydisp']) :\n",
        "  indiceNo = forcas['nnr'][i]\n",
        "\n",
        "  for(j, restricao) in enumerate(graus_de_liberdade):\n",
        "    # \"remover\" a linha e coluna relacionada a esse grau de liberdade\n",
        "    grauDeLiberdadeGlobal = (indiceNo - 1) * data['ndofn'] + j\n",
        "\n",
        "    if(restricao == 1):\n",
        "      restricoes.append(grauDeLiberdadeGlobal)\n",
        "\n",
        "matriz_global_somente_incognitas = np.delete(matriz_global, restricoes, axis=0)\n",
        "matriz_global_somente_incognitas = np.delete(matriz_global_somente_incognitas, restricoes, axis=1)\n",
        "F_somente_incognitas = np.delete(F, restricoes)\n",
        "print(matriz_global_somente_incognitas, F_somente_incognitas)"
      ],
      "metadata": {
        "colab": {
          "base_uri": "https://localhost:8080/"
        },
        "id": "05MUZ3D0OI6E",
        "outputId": "36cb3e4d-268d-4349-ffe2-6fafa580a83f"
      },
      "execution_count": 60,
      "outputs": [
        {
          "output_type": "stream",
          "name": "stdout",
          "text": [
            "[[10521.  3006.     0.     0.     0.]\n",
            " [ 3006. 12024.  3006.     0.     0.]\n",
            " [    0.  3006. 18036. -6012.  6012.]\n",
            " [    0.     0. -6012.  4008. -6012.]\n",
            " [    0.     0.  6012. -6012. 12024.]] [-22.   0.  30. -10.   0.]\n"
          ]
        }
      ]
    },
    {
      "cell_type": "markdown",
      "source": [
        "## Resolução do sistema"
      ],
      "metadata": {
        "id": "yEsHnkTVGJij"
      }
    },
    {
      "cell_type": "code",
      "source": [
        "deslocamentos = np.linalg.solve(matriz_global_somente_incognitas, F_somente_incognitas)\n",
        "print(deslocamentos)"
      ],
      "metadata": {
        "colab": {
          "base_uri": "https://localhost:8080/"
        },
        "id": "fJyyoHddGJMZ",
        "outputId": "97f23ceb-95e3-4793-cd22-feaab293d096"
      },
      "execution_count": 61,
      "outputs": [
        {
          "output_type": "stream",
          "name": "stdout",
          "text": [
            "[-0.00227693  0.00065055 -0.00032528 -0.01095587 -0.0053153 ]\n"
          ]
        }
      ]
    },
    {
      "cell_type": "markdown",
      "source": [
        "### Cálcluo das reações de apoio"
      ],
      "metadata": {
        "id": "xPEY9nPS3ogZ"
      }
    },
    {
      "cell_type": "code",
      "source": [
        "graus_de_liberdade = np.arange(0, (data['ndofn'] * data['nno']))\n",
        "graus_de_liberdade_restantes = np.setdiff1d(graus_de_liberdade, np.array(restricoes))\n",
        "\n",
        "matriz_para_reacoes_apoio = np.delete(matriz_global, graus_de_liberdade_restantes, axis=0)\n",
        "matriz_para_reacoes_apoio = np.delete(matriz_para_reacoes_apoio, restricoes, axis=1)\n",
        "F_para_reacoes_apoio = np.delete(F, graus_de_liberdade_restantes)\n",
        "print(matriz_para_reacoes_apoio, - F_para_reacoes_apoio)"
      ],
      "metadata": {
        "colab": {
          "base_uri": "https://localhost:8080/"
        },
        "id": "V4GG291S3rhF",
        "outputId": "ca0349ac-d54c-422c-d008-475960f9a37b"
      },
      "execution_count": 62,
      "outputs": [
        {
          "output_type": "stream",
          "name": "stdout",
          "text": [
            "[[  845.4375     0.         0.         0.         0.    ]\n",
            " [ 2254.5        0.         0.         0.         0.    ]\n",
            " [  657.5625  1503.         0.         0.         0.    ]\n",
            " [-1503.         0.      1503.         0.         0.    ]\n",
            " [    0.     -1503.      4509.     -4008.      6012.    ]] [ 4.  8. 34. 60. 30.]\n"
          ]
        }
      ]
    },
    {
      "cell_type": "markdown",
      "source": [
        "$$\n",
        "\\{F_R\\} = \\{ F_{RL}\\} + [K_{RD}]\\{d\\}\n",
        "$$"
      ],
      "metadata": {
        "id": "ySO0RX6c6WK0"
      }
    },
    {
      "cell_type": "code",
      "source": [
        "reacoes = - F_para_reacoes_apoio + (matriz_para_reacoes_apoio @  deslocamentos)\n",
        "reacoes"
      ],
      "metadata": {
        "colab": {
          "base_uri": "https://localhost:8080/"
        },
        "id": "-C1IwS3z6l2k",
        "outputId": "dbded0c5-299b-49ba-8411-f6c317cee6de"
      },
      "execution_count": 63,
      "outputs": [
        {
          "output_type": "execute_result",
          "data": {
            "text/plain": [
              "array([ 2.075     ,  2.86666667, 33.48055556, 62.93333333, 39.51111111])"
            ]
          },
          "metadata": {},
          "execution_count": 63
        }
      ]
    },
    {
      "cell_type": "markdown",
      "source": [
        "\n",
        "\n",
        "*   ✅ Instanciar os objetos que o Gustavo criou\n",
        "  *   ✅Criar a matriz local\n",
        "*   ✅Criar a matriz global\n",
        "  *   ✅ rotacionar e colocar a matriz local na global\n",
        "*   Finalizar a entrada de dados\n",
        "  *   Apoios\n",
        "  *   ✅ Forças (geral momento tb) pontuais e carregamentos\n",
        "*   ✅ Vetor de forças\n",
        "  *   ✅ Vetor de cargas nodais equivalentes\n",
        "        *  ✅ Engasmento perfeito com sinal trocado\n",
        "  *  ✅ Cargas aplicadas diretamente sobre os nos\n",
        "* ✅ Encontrar as reações de apoio\n",
        "* Refatorar código\n",
        "  * Montar relatório\n",
        "  * Criar funções\n",
        "  * Utilizar json na primeira leitura também\n",
        "* Corrigir e testar para outros exemplos\n",
        "  * treliça\n",
        "  * portico\n",
        "* Encontrar os esforços de cada barra\n",
        "  * Ações de extremidade finais de cada barra\n",
        "\n",
        "\n",
        "\n",
        "\n",
        "### Limitações:\n",
        "\n",
        "- 2 elementos por barra apenas\n",
        "- Elementos planos apenas\n",
        "- Consideremos apenas apoios que restringem todo o deslocamento (ou rotação)"
      ],
      "metadata": {
        "id": "d9Zn-o201fy9"
      }
    }
  ]
}